{
 "cells": [
  {
   "cell_type": "markdown",
   "id": "0956cd3a-b877-4610-b8d5-161a2d581d36",
   "metadata": {},
   "source": [
    "### 1. Импортирование библиотек"
   ]
  },
  {
   "cell_type": "code",
   "execution_count": 1,
   "id": "226074f3-165b-42a0-a4da-8372392e5b89",
   "metadata": {},
   "outputs": [],
   "source": [
    "import numpy as np\n",
    "import pandas as pd\n",
    "import matplotlib.pyplot as plt\n",
    "import seaborn as sns\n",
    "from sklearn.model_selection import train_test_split\n",
    "from matplotlib.colors import ListedColormap\n",
    "\n",
    "plt.style.use(\"seaborn\")"
   ]
  },
  {
   "cell_type": "markdown",
   "id": "437db89d-4fda-460a-b735-bd7ddd7df64b",
   "metadata": {},
   "source": [
    "### 2. Выполнение лабораторной работы №2. Часть 1"
   ]
  },
  {
   "cell_type": "markdown",
   "id": "c83e56ae-8936-42b6-9a78-63fa1f5c7590",
   "metadata": {},
   "source": [
    "#### Задание 3."
   ]
  },
  {
   "cell_type": "markdown",
   "id": "4bab7a2c-19c3-4376-b350-5b1aca0177ba",
   "metadata": {},
   "source": [
    "##### 1) Разбейте датасет на тренировочную, валидационную и тестовую выборку"
   ]
  },
  {
   "cell_type": "code",
   "execution_count": 2,
   "id": "eb713aac-3548-4dd6-81f3-221b9bb56784",
   "metadata": {},
   "outputs": [
    {
     "data": {
      "text/html": [
       "<div>\n",
       "<style scoped>\n",
       "    .dataframe tbody tr th:only-of-type {\n",
       "        vertical-align: middle;\n",
       "    }\n",
       "\n",
       "    .dataframe tbody tr th {\n",
       "        vertical-align: top;\n",
       "    }\n",
       "\n",
       "    .dataframe thead th {\n",
       "        text-align: right;\n",
       "    }\n",
       "</style>\n",
       "<table border=\"1\" class=\"dataframe\">\n",
       "  <thead>\n",
       "    <tr style=\"text-align: right;\">\n",
       "      <th></th>\n",
       "      <th>longitude</th>\n",
       "      <th>latitude</th>\n",
       "      <th>housing_median_age</th>\n",
       "      <th>total_rooms</th>\n",
       "      <th>total_bedrooms</th>\n",
       "      <th>population</th>\n",
       "      <th>households</th>\n",
       "      <th>median_income</th>\n",
       "      <th>median_house_value</th>\n",
       "      <th>ocean_proximity</th>\n",
       "    </tr>\n",
       "  </thead>\n",
       "  <tbody>\n",
       "    <tr>\n",
       "      <th>0</th>\n",
       "      <td>-122.23</td>\n",
       "      <td>37.88</td>\n",
       "      <td>41.0</td>\n",
       "      <td>880.0</td>\n",
       "      <td>129.0</td>\n",
       "      <td>322.0</td>\n",
       "      <td>126.0</td>\n",
       "      <td>8.3252</td>\n",
       "      <td>452600.0</td>\n",
       "      <td>NEAR BAY</td>\n",
       "    </tr>\n",
       "    <tr>\n",
       "      <th>1</th>\n",
       "      <td>-122.22</td>\n",
       "      <td>37.86</td>\n",
       "      <td>21.0</td>\n",
       "      <td>7099.0</td>\n",
       "      <td>1106.0</td>\n",
       "      <td>2401.0</td>\n",
       "      <td>1138.0</td>\n",
       "      <td>8.3014</td>\n",
       "      <td>358500.0</td>\n",
       "      <td>NEAR BAY</td>\n",
       "    </tr>\n",
       "    <tr>\n",
       "      <th>2</th>\n",
       "      <td>-122.24</td>\n",
       "      <td>37.85</td>\n",
       "      <td>52.0</td>\n",
       "      <td>1467.0</td>\n",
       "      <td>190.0</td>\n",
       "      <td>496.0</td>\n",
       "      <td>177.0</td>\n",
       "      <td>7.2574</td>\n",
       "      <td>352100.0</td>\n",
       "      <td>NEAR BAY</td>\n",
       "    </tr>\n",
       "    <tr>\n",
       "      <th>3</th>\n",
       "      <td>-122.25</td>\n",
       "      <td>37.85</td>\n",
       "      <td>52.0</td>\n",
       "      <td>1274.0</td>\n",
       "      <td>235.0</td>\n",
       "      <td>558.0</td>\n",
       "      <td>219.0</td>\n",
       "      <td>5.6431</td>\n",
       "      <td>341300.0</td>\n",
       "      <td>NEAR BAY</td>\n",
       "    </tr>\n",
       "    <tr>\n",
       "      <th>4</th>\n",
       "      <td>-122.25</td>\n",
       "      <td>37.85</td>\n",
       "      <td>52.0</td>\n",
       "      <td>1627.0</td>\n",
       "      <td>280.0</td>\n",
       "      <td>565.0</td>\n",
       "      <td>259.0</td>\n",
       "      <td>3.8462</td>\n",
       "      <td>342200.0</td>\n",
       "      <td>NEAR BAY</td>\n",
       "    </tr>\n",
       "  </tbody>\n",
       "</table>\n",
       "</div>"
      ],
      "text/plain": [
       "   longitude  latitude  housing_median_age  total_rooms  total_bedrooms  \\\n",
       "0    -122.23     37.88                41.0        880.0           129.0   \n",
       "1    -122.22     37.86                21.0       7099.0          1106.0   \n",
       "2    -122.24     37.85                52.0       1467.0           190.0   \n",
       "3    -122.25     37.85                52.0       1274.0           235.0   \n",
       "4    -122.25     37.85                52.0       1627.0           280.0   \n",
       "\n",
       "   population  households  median_income  median_house_value ocean_proximity  \n",
       "0       322.0       126.0         8.3252            452600.0        NEAR BAY  \n",
       "1      2401.0      1138.0         8.3014            358500.0        NEAR BAY  \n",
       "2       496.0       177.0         7.2574            352100.0        NEAR BAY  \n",
       "3       558.0       219.0         5.6431            341300.0        NEAR BAY  \n",
       "4       565.0       259.0         3.8462            342200.0        NEAR BAY  "
      ]
     },
     "execution_count": 2,
     "metadata": {},
     "output_type": "execute_result"
    }
   ],
   "source": [
    "df = pd.read_csv(\"housing.csv\")\n",
    "df.head()"
   ]
  },
  {
   "cell_type": "code",
   "execution_count": 3,
   "id": "21b2b289-da93-4169-bef4-1e0fe5c53195",
   "metadata": {},
   "outputs": [
    {
     "data": {
      "text/plain": [
       "((16512, 10), (4128, 10))"
      ]
     },
     "execution_count": 3,
     "metadata": {},
     "output_type": "execute_result"
    }
   ],
   "source": [
    "train_validation, test = train_test_split(df, test_size = 0.2)\n",
    "train_validation.shape, test.shape"
   ]
  },
  {
   "cell_type": "code",
   "execution_count": 4,
   "id": "33e4ec28-1c01-4887-8a51-fbe6509e375e",
   "metadata": {},
   "outputs": [
    {
     "data": {
      "text/plain": [
       "((13209, 10), (3303, 10))"
      ]
     },
     "execution_count": 4,
     "metadata": {},
     "output_type": "execute_result"
    }
   ],
   "source": [
    "train, validation = train_test_split(train_validation, test_size = 0.2)\n",
    "train.shape, validation.shape"
   ]
  },
  {
   "cell_type": "markdown",
   "id": "0e706168-6455-4eca-a9fc-eaba6c6273db",
   "metadata": {},
   "source": [
    "##### 2) Проведите преобразование категориального признака ocean_proximity через OneHot или Dummy-кодировку"
   ]
  },
  {
   "cell_type": "code",
   "execution_count": 5,
   "id": "b983cd4b-24e5-42a4-9595-1f8bc0be7f42",
   "metadata": {},
   "outputs": [],
   "source": [
    "train = pd.get_dummies(train, columns=[\"ocean_proximity\"])\n",
    "validation = pd.get_dummies(validation, columns=[\"ocean_proximity\"])\n",
    "test = pd.get_dummies(test, columns=[\"ocean_proximity\"])"
   ]
  },
  {
   "cell_type": "markdown",
   "id": "c9740545-946d-4ca2-8c55-5334c63f8e0c",
   "metadata": {},
   "source": [
    "##### 3) Замените признаки total_rooms и total_bedrooms на average_rooms и average_bedrooms (поделив на households)."
   ]
  },
  {
   "cell_type": "code",
   "execution_count": 6,
   "id": "80648429-b54e-4e61-8107-fc746faf3dc7",
   "metadata": {},
   "outputs": [],
   "source": [
    "train[\"average_rooms\"] = train[\"total_rooms\"] / train[\"households\"]\n",
    "train[\"average_bedrooms\"] = train[\"total_bedrooms\"] / train[\"households\"]\n",
    "\n",
    "validation[\"average_rooms\"] = validation[\"total_rooms\"] / validation[\"households\"]\n",
    "validation[\"average_bedrooms\"] = validation[\"total_bedrooms\"] / validation[\"households\"]\n",
    "\n",
    "test[\"average_rooms\"] = test[\"total_rooms\"] / test[\"households\"]\n",
    "test[\"average_bedrooms\"] = test[\"total_bedrooms\"] / test[\"households\"]"
   ]
  },
  {
   "cell_type": "markdown",
   "id": "b57030f2-682b-4da6-8a16-1e1295f6454c",
   "metadata": {},
   "source": [
    "##### 4) В признаке average_bedrooms (total_bedrooms) есть отсутствующие значения. Определите число экземпляров данных, для которых этот признак отсутствует. Придумайте и обоснуйте стратегию заполнения пропусков в этой задаче. Заполните пропуски."
   ]
  },
  {
   "cell_type": "code",
   "execution_count": 7,
   "id": "6c0983fd-a1e8-4e8a-88b6-a036bc388dbf",
   "metadata": {},
   "outputs": [
    {
     "data": {
      "text/plain": [
       "(longitude                       0\n",
       " latitude                        0\n",
       " housing_median_age              0\n",
       " total_rooms                     0\n",
       " total_bedrooms                131\n",
       " population                      0\n",
       " households                      0\n",
       " median_income                   0\n",
       " median_house_value              0\n",
       " ocean_proximity_<1H OCEAN       0\n",
       " ocean_proximity_INLAND          0\n",
       " ocean_proximity_ISLAND          0\n",
       " ocean_proximity_NEAR BAY        0\n",
       " ocean_proximity_NEAR OCEAN      0\n",
       " average_rooms                   0\n",
       " average_bedrooms              131\n",
       " dtype: int64,\n",
       " longitude                      0\n",
       " latitude                       0\n",
       " housing_median_age             0\n",
       " total_rooms                    0\n",
       " total_bedrooms                35\n",
       " population                     0\n",
       " households                     0\n",
       " median_income                  0\n",
       " median_house_value             0\n",
       " ocean_proximity_<1H OCEAN      0\n",
       " ocean_proximity_INLAND         0\n",
       " ocean_proximity_ISLAND         0\n",
       " ocean_proximity_NEAR BAY       0\n",
       " ocean_proximity_NEAR OCEAN     0\n",
       " average_rooms                  0\n",
       " average_bedrooms              35\n",
       " dtype: int64,\n",
       " longitude                      0\n",
       " latitude                       0\n",
       " housing_median_age             0\n",
       " total_rooms                    0\n",
       " total_bedrooms                41\n",
       " population                     0\n",
       " households                     0\n",
       " median_income                  0\n",
       " median_house_value             0\n",
       " ocean_proximity_<1H OCEAN      0\n",
       " ocean_proximity_INLAND         0\n",
       " ocean_proximity_ISLAND         0\n",
       " ocean_proximity_NEAR BAY       0\n",
       " ocean_proximity_NEAR OCEAN     0\n",
       " average_rooms                  0\n",
       " average_bedrooms              41\n",
       " dtype: int64)"
      ]
     },
     "execution_count": 7,
     "metadata": {},
     "output_type": "execute_result"
    }
   ],
   "source": [
    "train.isna().sum(), validation.isna().sum(), test.isna().sum()"
   ]
  },
  {
   "cell_type": "code",
   "execution_count": 8,
   "id": "e9b8807d-c871-4436-b6c6-ac5611e8e42e",
   "metadata": {},
   "outputs": [],
   "source": [
    "mean_value = train[\"average_bedrooms\"].mean()"
   ]
  },
  {
   "cell_type": "code",
   "execution_count": 9,
   "id": "18516511-b840-4309-9730-233c1a87d8d2",
   "metadata": {},
   "outputs": [],
   "source": [
    "train.fillna(value = mean_value, inplace=True)\n",
    "test.fillna(value = mean_value, inplace = True)\n",
    "validation.fillna(value = mean_value, inplace=True)"
   ]
  },
  {
   "cell_type": "markdown",
   "id": "6618ef3a-17eb-4767-8751-baf81169e01f",
   "metadata": {},
   "source": [
    "##### 5) Нормализуйте признаки longitude и latitude (сделайте так, чтобы каждый признак имел среднее значение 0 и дисперсию 1 внутри обучающей выборки)"
   ]
  },
  {
   "cell_type": "code",
   "execution_count": 10,
   "id": "39546042-f91d-49fb-bb64-0180cc9871bf",
   "metadata": {},
   "outputs": [],
   "source": [
    "train[\"longitude\"] = (train[\"longitude\"] - train[\"longitude\"].mean()) / train[\"longitude\"].std()\n",
    "train[\"latitude\"] = (train[\"latitude\"] - train[\"latitude\"].mean()) / train[\"latitude\"].std()\n",
    "\n",
    "validation[\"longitude\"] = (validation[\"longitude\"] - validation[\"longitude\"].mean()) / validation[\"longitude\"].std()\n",
    "validation[\"latitude\"] = (validation[\"latitude\"] - validation[\"latitude\"].mean()) / validation[\"latitude\"].std()\n",
    "\n",
    "test[\"longitude\"] = (test[\"longitude\"] - test[\"longitude\"].mean()) / test[\"longitude\"].std()\n",
    "test[\"latitude\"] = (test[\"latitude\"] - test[\"latitude\"].mean()) / test[\"latitude\"].std()"
   ]
  },
  {
   "cell_type": "markdown",
   "id": "9ff30e2f-18fe-4533-99d2-d3fff4e1ffb7",
   "metadata": {},
   "source": [
    "### 3. Выполнение лабораторной работы №2. Часть 2"
   ]
  },
  {
   "cell_type": "markdown",
   "id": "0b95a5e1-8f12-4d9f-be51-e813123245d7",
   "metadata": {},
   "source": [
    "#### Задание 1."
   ]
  },
  {
   "cell_type": "code",
   "execution_count": 11,
   "id": "3ae6bc70-ff23-4782-adb8-19b0b6e5ad72",
   "metadata": {},
   "outputs": [
    {
     "data": {
      "text/html": [
       "<div>\n",
       "<style scoped>\n",
       "    .dataframe tbody tr th:only-of-type {\n",
       "        vertical-align: middle;\n",
       "    }\n",
       "\n",
       "    .dataframe tbody tr th {\n",
       "        vertical-align: top;\n",
       "    }\n",
       "\n",
       "    .dataframe thead th {\n",
       "        text-align: right;\n",
       "    }\n",
       "</style>\n",
       "<table border=\"1\" class=\"dataframe\">\n",
       "  <thead>\n",
       "    <tr style=\"text-align: right;\">\n",
       "      <th></th>\n",
       "      <th>Unnamed: 0</th>\n",
       "      <th>sex</th>\n",
       "      <th>weight</th>\n",
       "      <th>height</th>\n",
       "      <th>repwt</th>\n",
       "      <th>repht</th>\n",
       "    </tr>\n",
       "  </thead>\n",
       "  <tbody>\n",
       "    <tr>\n",
       "      <th>0</th>\n",
       "      <td>1</td>\n",
       "      <td>M</td>\n",
       "      <td>77</td>\n",
       "      <td>182</td>\n",
       "      <td>77.0</td>\n",
       "      <td>180.0</td>\n",
       "    </tr>\n",
       "    <tr>\n",
       "      <th>1</th>\n",
       "      <td>2</td>\n",
       "      <td>F</td>\n",
       "      <td>58</td>\n",
       "      <td>161</td>\n",
       "      <td>51.0</td>\n",
       "      <td>159.0</td>\n",
       "    </tr>\n",
       "    <tr>\n",
       "      <th>2</th>\n",
       "      <td>3</td>\n",
       "      <td>F</td>\n",
       "      <td>53</td>\n",
       "      <td>161</td>\n",
       "      <td>54.0</td>\n",
       "      <td>158.0</td>\n",
       "    </tr>\n",
       "    <tr>\n",
       "      <th>3</th>\n",
       "      <td>4</td>\n",
       "      <td>M</td>\n",
       "      <td>68</td>\n",
       "      <td>177</td>\n",
       "      <td>70.0</td>\n",
       "      <td>175.0</td>\n",
       "    </tr>\n",
       "    <tr>\n",
       "      <th>4</th>\n",
       "      <td>5</td>\n",
       "      <td>F</td>\n",
       "      <td>59</td>\n",
       "      <td>157</td>\n",
       "      <td>59.0</td>\n",
       "      <td>155.0</td>\n",
       "    </tr>\n",
       "  </tbody>\n",
       "</table>\n",
       "</div>"
      ],
      "text/plain": [
       "   Unnamed: 0 sex  weight  height  repwt  repht\n",
       "0           1   M      77     182   77.0  180.0\n",
       "1           2   F      58     161   51.0  159.0\n",
       "2           3   F      53     161   54.0  158.0\n",
       "3           4   M      68     177   70.0  175.0\n",
       "4           5   F      59     157   59.0  155.0"
      ]
     },
     "execution_count": 11,
     "metadata": {},
     "output_type": "execute_result"
    }
   ],
   "source": [
    "df = pd.read_csv(\"Davis.csv\")\n",
    "df.head()"
   ]
  },
  {
   "cell_type": "code",
   "execution_count": 12,
   "id": "25ad463f-d366-4a5e-9f9d-d396cbdc7980",
   "metadata": {},
   "outputs": [
    {
     "data": {
      "text/html": [
       "<div>\n",
       "<style scoped>\n",
       "    .dataframe tbody tr th:only-of-type {\n",
       "        vertical-align: middle;\n",
       "    }\n",
       "\n",
       "    .dataframe tbody tr th {\n",
       "        vertical-align: top;\n",
       "    }\n",
       "\n",
       "    .dataframe thead th {\n",
       "        text-align: right;\n",
       "    }\n",
       "</style>\n",
       "<table border=\"1\" class=\"dataframe\">\n",
       "  <thead>\n",
       "    <tr style=\"text-align: right;\">\n",
       "      <th></th>\n",
       "      <th>sex</th>\n",
       "      <th>weight</th>\n",
       "      <th>height</th>\n",
       "      <th>repwt</th>\n",
       "      <th>repht</th>\n",
       "    </tr>\n",
       "  </thead>\n",
       "  <tbody>\n",
       "    <tr>\n",
       "      <th>0</th>\n",
       "      <td>M</td>\n",
       "      <td>77</td>\n",
       "      <td>182</td>\n",
       "      <td>77.0</td>\n",
       "      <td>180.0</td>\n",
       "    </tr>\n",
       "    <tr>\n",
       "      <th>1</th>\n",
       "      <td>F</td>\n",
       "      <td>58</td>\n",
       "      <td>161</td>\n",
       "      <td>51.0</td>\n",
       "      <td>159.0</td>\n",
       "    </tr>\n",
       "    <tr>\n",
       "      <th>2</th>\n",
       "      <td>F</td>\n",
       "      <td>53</td>\n",
       "      <td>161</td>\n",
       "      <td>54.0</td>\n",
       "      <td>158.0</td>\n",
       "    </tr>\n",
       "    <tr>\n",
       "      <th>3</th>\n",
       "      <td>M</td>\n",
       "      <td>68</td>\n",
       "      <td>177</td>\n",
       "      <td>70.0</td>\n",
       "      <td>175.0</td>\n",
       "    </tr>\n",
       "    <tr>\n",
       "      <th>4</th>\n",
       "      <td>F</td>\n",
       "      <td>59</td>\n",
       "      <td>157</td>\n",
       "      <td>59.0</td>\n",
       "      <td>155.0</td>\n",
       "    </tr>\n",
       "  </tbody>\n",
       "</table>\n",
       "</div>"
      ],
      "text/plain": [
       "  sex  weight  height  repwt  repht\n",
       "0   M      77     182   77.0  180.0\n",
       "1   F      58     161   51.0  159.0\n",
       "2   F      53     161   54.0  158.0\n",
       "3   M      68     177   70.0  175.0\n",
       "4   F      59     157   59.0  155.0"
      ]
     },
     "execution_count": 12,
     "metadata": {},
     "output_type": "execute_result"
    }
   ],
   "source": [
    "df.drop(\"Unnamed: 0\", axis=1, inplace=True)\n",
    "df.head()"
   ]
  },
  {
   "cell_type": "markdown",
   "id": "034cbd33-c9e7-44c1-b332-c9b4d8dfd5f1",
   "metadata": {},
   "source": [
    "##### 1) Удалите некорректные данные"
   ]
  },
  {
   "cell_type": "code",
   "execution_count": 13,
   "id": "19b13ebb-c9be-4735-8a92-e37a1410586c",
   "metadata": {},
   "outputs": [
    {
     "data": {
      "text/plain": [
       "sex       0.0\n",
       "weight    0.0\n",
       "height    0.0\n",
       "repwt     8.5\n",
       "repht     8.5\n",
       "dtype: float64"
      ]
     },
     "execution_count": 13,
     "metadata": {},
     "output_type": "execute_result"
    }
   ],
   "source": [
    "df.isna().sum() / len(df) * 100"
   ]
  },
  {
   "cell_type": "code",
   "execution_count": 14,
   "id": "3b7f4f8e-6a5a-47ad-94e5-0814a4a49f13",
   "metadata": {},
   "outputs": [
    {
     "data": {
      "text/html": [
       "<div>\n",
       "<style scoped>\n",
       "    .dataframe tbody tr th:only-of-type {\n",
       "        vertical-align: middle;\n",
       "    }\n",
       "\n",
       "    .dataframe tbody tr th {\n",
       "        vertical-align: top;\n",
       "    }\n",
       "\n",
       "    .dataframe thead th {\n",
       "        text-align: right;\n",
       "    }\n",
       "</style>\n",
       "<table border=\"1\" class=\"dataframe\">\n",
       "  <thead>\n",
       "    <tr style=\"text-align: right;\">\n",
       "      <th></th>\n",
       "      <th>sex</th>\n",
       "      <th>weight</th>\n",
       "      <th>height</th>\n",
       "    </tr>\n",
       "  </thead>\n",
       "  <tbody>\n",
       "    <tr>\n",
       "      <th>0</th>\n",
       "      <td>M</td>\n",
       "      <td>77</td>\n",
       "      <td>182</td>\n",
       "    </tr>\n",
       "    <tr>\n",
       "      <th>1</th>\n",
       "      <td>F</td>\n",
       "      <td>58</td>\n",
       "      <td>161</td>\n",
       "    </tr>\n",
       "    <tr>\n",
       "      <th>2</th>\n",
       "      <td>F</td>\n",
       "      <td>53</td>\n",
       "      <td>161</td>\n",
       "    </tr>\n",
       "    <tr>\n",
       "      <th>3</th>\n",
       "      <td>M</td>\n",
       "      <td>68</td>\n",
       "      <td>177</td>\n",
       "    </tr>\n",
       "    <tr>\n",
       "      <th>4</th>\n",
       "      <td>F</td>\n",
       "      <td>59</td>\n",
       "      <td>157</td>\n",
       "    </tr>\n",
       "    <tr>\n",
       "      <th>...</th>\n",
       "      <td>...</td>\n",
       "      <td>...</td>\n",
       "      <td>...</td>\n",
       "    </tr>\n",
       "    <tr>\n",
       "      <th>195</th>\n",
       "      <td>M</td>\n",
       "      <td>74</td>\n",
       "      <td>175</td>\n",
       "    </tr>\n",
       "    <tr>\n",
       "      <th>196</th>\n",
       "      <td>M</td>\n",
       "      <td>83</td>\n",
       "      <td>180</td>\n",
       "    </tr>\n",
       "    <tr>\n",
       "      <th>197</th>\n",
       "      <td>M</td>\n",
       "      <td>81</td>\n",
       "      <td>175</td>\n",
       "    </tr>\n",
       "    <tr>\n",
       "      <th>198</th>\n",
       "      <td>M</td>\n",
       "      <td>90</td>\n",
       "      <td>181</td>\n",
       "    </tr>\n",
       "    <tr>\n",
       "      <th>199</th>\n",
       "      <td>M</td>\n",
       "      <td>79</td>\n",
       "      <td>177</td>\n",
       "    </tr>\n",
       "  </tbody>\n",
       "</table>\n",
       "<p>200 rows × 3 columns</p>\n",
       "</div>"
      ],
      "text/plain": [
       "    sex  weight  height\n",
       "0     M      77     182\n",
       "1     F      58     161\n",
       "2     F      53     161\n",
       "3     M      68     177\n",
       "4     F      59     157\n",
       "..   ..     ...     ...\n",
       "195   M      74     175\n",
       "196   M      83     180\n",
       "197   M      81     175\n",
       "198   M      90     181\n",
       "199   M      79     177\n",
       "\n",
       "[200 rows x 3 columns]"
      ]
     },
     "execution_count": 14,
     "metadata": {},
     "output_type": "execute_result"
    }
   ],
   "source": [
    "df.drop([\"repwt\", \"repht\"], axis=1)"
   ]
  },
  {
   "cell_type": "code",
   "execution_count": 15,
   "id": "7a6975fc-b62b-40d8-b1ea-c0a932afdd58",
   "metadata": {},
   "outputs": [],
   "source": [
    "df = df[np.logical_and(df['height'] > 100, df['weвight'] < 150)]"
   ]
  },
  {
   "cell_type": "markdown",
   "id": "830f0b6f-f38f-4bd5-89ca-1d2eab9867e2",
   "metadata": {},
   "source": [
    "##### 2) Выделите тестовую выборку из 50 экземпляров"
   ]
  },
  {
   "cell_type": "code",
   "execution_count": 16,
   "id": "2ac69951-4954-412f-8019-2dcc6957f556",
   "metadata": {},
   "outputs": [],
   "source": [
    "from sklearn.model_selection import train_test_split"
   ]
  },
  {
   "cell_type": "code",
   "execution_count": 17,
   "id": "a3828aef-7786-457a-92fc-1543d2a8953b",
   "metadata": {},
   "outputs": [
    {
     "data": {
      "text/plain": [
       "((149, 5), (50, 5))"
      ]
     },
     "execution_count": 17,
     "metadata": {},
     "output_type": "execute_result"
    }
   ],
   "source": [
    "train, test = train_test_split(df, test_size=50)\n",
    "train.shape, test.shape"
   ]
  },
  {
   "cell_type": "markdown",
   "id": "b547c061-933a-4eb3-a351-39ef875833da",
   "metadata": {},
   "source": [
    "##### 3) На тренировочных данных постройте: Гистограмму height, Гистограмму weight, Эти же гистограммы для разных полов"
   ]
  },
  {
   "cell_type": "code",
   "execution_count": 18,
   "id": "6aed6ab8-6f5b-4c6f-aa02-c9d812045c55",
   "metadata": {},
   "outputs": [
    {
     "data": {
      "image/png": "[encoded data removed]",
      "text/plain": [
       "<Figure size 576x396 with 1 Axes>"
      ]
     },
     "metadata": {},
     "output_type": "display_data"
    }
   ],
   "source": [
    "sns.histplot(df[\"height\"], kde = True);"
   ]
  },
  {
   "cell_type": "code",
   "execution_count": 19,
   "id": "ef334668-6f76-4dd7-bf40-a2db0311002b",
   "metadata": {},
   "outputs": [
    {
     "data": {
      "image/png": "[encoded data removed]",
      "text/plain": [
       "<Figure size 576x396 with 1 Axes>"
      ]
     },
     "metadata": {},
     "output_type": "display_data"
    }
   ],
   "source": [
    "sns.histplot(df[\"weight\"], kde = True, color = \"orange\");"
   ]
  },
  {
   "cell_type": "code",
   "execution_count": 20,
   "id": "48f9a03d-30e5-4f72-9199-3bfc8cc3ecd2",
   "metadata": {},
   "outputs": [
    {
     "data": {
      "text/plain": [
       "(  sex  weight  height  repwt  repht\n",
       " 0   M      77     182   77.0  180.0\n",
       " 3   M      68     177   70.0  175.0\n",
       " 5   M      76     170   76.0  165.0\n",
       " 6   M      76     167   77.0  165.0\n",
       " 7   M      69     186   73.0  180.0,\n",
       "    sex  weight  height  repwt  repht\n",
       " 1    F      58     161   51.0  159.0\n",
       " 2    F      53     161   54.0  158.0\n",
       " 4    F      59     157   59.0  155.0\n",
       " 12   F      51     161   52.0  158.0\n",
       " 13   F      64     168   64.0  165.0)"
      ]
     },
     "execution_count": 20,
     "metadata": {},
     "output_type": "execute_result"
    }
   ],
   "source": [
    "df_men = df[df[\"sex\"] == 'M']\n",
    "df_women = df[df[\"sex\"] == 'F']\n",
    "\n",
    "df_men.head(), df_women.head()"
   ]
  },
  {
   "cell_type": "code",
   "execution_count": 21,
   "id": "6c7d733d-623b-41cd-b747-4667b2653ec2",
   "metadata": {},
   "outputs": [
    {
     "data": {
      "image/png": "[encoded data removed]",
      "text/plain": [
       "<Figure size 576x396 with 1 Axes>"
      ]
     },
     "metadata": {},
     "output_type": "display_data"
    }
   ],
   "source": [
    "sns.histplot(df_men['height'], kde = True, color = \"red\");"
   ]
  },
  {
   "cell_type": "code",
   "execution_count": 22,
   "id": "5be74a5b-f893-4953-8355-9fbff350ace2",
   "metadata": {},
   "outputs": [
    {
     "data": {
      "image/png": "[encoded data removed]",
      "text/plain": [
       "<Figure size 576x396 with 1 Axes>"
      ]
     },
     "metadata": {},
     "output_type": "display_data"
    }
   ],
   "source": [
    "sns.histplot(df_men[\"weight\"], kde = True, color = \"yellow\");"
   ]
  },
  {
   "cell_type": "code",
   "execution_count": 23,
   "id": "189d620d-aca2-40ad-a09b-4cb90a1871a6",
   "metadata": {},
   "outputs": [
    {
     "data": {
      "image/png": "[encoded data removed]",
      "text/plain": [
       "<Figure size 576x396 with 1 Axes>"
      ]
     },
     "metadata": {},
     "output_type": "display_data"
    }
   ],
   "source": [
    "sns.histplot(df_women[\"height\"], kde = True, color = \"green\");"
   ]
  },
  {
   "cell_type": "code",
   "execution_count": 24,
   "id": "fd6dc4e4-06c2-4eff-867d-7c29a5b8591c",
   "metadata": {},
   "outputs": [
    {
     "data": {
      "image/png": "[encoded data removed]",
      "text/plain": [
       "<Figure size 576x396 with 1 Axes>"
      ]
     },
     "metadata": {},
     "output_type": "display_data"
    }
   ],
   "source": [
    "sns.histplot(df_women[\"weight\"], kde = True, color = \"blue\");"
   ]
  },
  {
   "cell_type": "markdown",
   "id": "99d03348-f61f-4004-a1c9-27253fc537b7",
   "metadata": {},
   "source": [
    "##### 4) На тренировочных данных обучите классификатор пола (sex), используя только признаки height и weight. Замерьте производительность на тренировочной и тестовой выборке (через Accuracy). Рекомендуемые модели:  логистическая регрессия, quadratic discriminant analysis."
   ]
  },
  {
   "cell_type": "code",
   "execution_count": 25,
   "id": "fefd98e4-20fa-426a-8cb8-fdb9f66aa6ff",
   "metadata": {},
   "outputs": [],
   "source": [
    "from sklearn.linear_model import LogisticRegression"
   ]
  },
  {
   "cell_type": "code",
   "execution_count": 26,
   "id": "10b843e0-b9d8-4380-a0c7-b7ef20a2cbe9",
   "metadata": {},
   "outputs": [
    {
     "name": "stderr",
     "output_type": "stream",
     "text": [
      "C:\\Users\\ASUS\\anaconda3\\lib\\site-packages\\pandas\\core\\frame.py:4524: SettingWithCopyWarning: \n",
      "A value is trying to be set on a copy of a slice from a DataFrame\n",
      "\n",
      "See the caveats in the documentation: https://pandas.pydata.org/pandas-docs/stable/user_guide/indexing.html#returning-a-view-versus-a-copy\n",
      "  return super().replace(\n"
     ]
    },
    {
     "data": {
      "text/plain": [
       "(     sex  weight  height  repwt  repht\n",
       " 116    0      83     184   83.0  181.0\n",
       " 77     1      63     160   64.0  158.0\n",
       " 148    1      70     173   67.0  170.0\n",
       " 151    1      47     162   47.0  160.0\n",
       " 152    1      47     150   45.0  152.0,\n",
       "      sex  weight  height  repwt  repht\n",
       " 79     0      69     183   70.0  183.0\n",
       " 10     0      70     175   75.0  174.0\n",
       " 141    1      52     163   53.0  160.0\n",
       " 54     0      64     177    NaN    NaN\n",
       " 179    0      68     174   68.0  173.0)"
      ]
     },
     "execution_count": 26,
     "metadata": {},
     "output_type": "execute_result"
    }
   ],
   "source": [
    "train.replace({'M': 0, 'F': 1}, inplace=True)\n",
    "test.replace({'M': 0, 'F': 1}, inplace=True)\n",
    "\n",
    "train.head(), test.head()"
   ]
  },
  {
   "cell_type": "code",
   "execution_count": 27,
   "id": "0001f356-d853-453f-8473-475feb2d6815",
   "metadata": {},
   "outputs": [],
   "source": [
    "y_train = train[\"sex\"].to_numpy()\n",
    "X_train = train.loc[:, [\"height\", \"weight\"]].to_numpy()"
   ]
  },
  {
   "cell_type": "code",
   "execution_count": 28,
   "id": "b7ed12c8-9854-4913-a2ce-2ef334cecf11",
   "metadata": {},
   "outputs": [
    {
     "data": {
      "text/plain": [
       "0.8926174496644296"
      ]
     },
     "execution_count": 28,
     "metadata": {},
     "output_type": "execute_result"
    }
   ],
   "source": [
    "clf = LogisticRegression().fit(X_train, y_train)\n",
    "clf.score(X_train, y_train) # Обучающая выборка"
   ]
  },
  {
   "cell_type": "code",
   "execution_count": 29,
   "id": "7faa3265-a389-482d-82ea-202b7555d0ba",
   "metadata": {},
   "outputs": [
    {
     "data": {
      "text/plain": [
       "0.96"
      ]
     },
     "execution_count": 29,
     "metadata": {},
     "output_type": "execute_result"
    }
   ],
   "source": [
    "y_test = test[\"sex\"].to_numpy()\n",
    "X_test = test.loc[:, [\"height\", \"weight\"]].to_numpy()\n",
    "clf.score(X_test, y_test) # Тестовая выборка"
   ]
  },
  {
   "cell_type": "markdown",
   "id": "67c56393-2fd4-4d04-897f-1491327ea705",
   "metadata": {},
   "source": [
    "##### 5) Отобразите точки из обучающей выборки на плоскости (height-weight). Покрасьте их цветами в зависимости от пола. Раскрасьте области в зависимости от пола, предсказанного обученным в п.4. классификатором. Сделайте аналогичный график на тестовой выборке"
   ]
  },
  {
   "cell_type": "code",
   "execution_count": 30,
   "id": "e3f58373-2c37-4c3c-850d-5ad4eb8c5d66",
   "metadata": {},
   "outputs": [],
   "source": [
    "predicts = clf.predict(X_train)"
   ]
  },
  {
   "cell_type": "code",
   "execution_count": 31,
   "id": "83d2f2d6-a8e4-4ecf-99f7-15fcb78a2870",
   "metadata": {},
   "outputs": [
    {
     "data": {
      "image/png": "[encoded data removed]",
      "text/plain": [
       "<Figure size 1200x800 with 4 Axes>"
      ]
     },
     "metadata": {},
     "output_type": "display_data"
    }
   ],
   "source": [
    "fig = plt.figure(figsize=(15, 10), dpi=80)\n",
    "\n",
    "ax_1 = fig.add_subplot(2, 2, 1);\n",
    "ax_2 = fig.add_subplot(2, 2, 2);\n",
    "ax_3 = fig.add_subplot(2, 2, 3);\n",
    "ax_4 = fig.add_subplot(2, 2, 4);"
   ]
  },
  {
   "cell_type": "code",
   "execution_count": 32,
   "id": "fa0a7471-7bb3-4c3e-87b7-21728ecb3b2e",
   "metadata": {},
   "outputs": [
    {
     "data": {
      "text/plain": [
       "<matplotlib.legend.Legend at 0x17718815670>"
      ]
     },
     "execution_count": 32,
     "metadata": {},
     "output_type": "execute_result"
    }
   ],
   "source": [
    "x1_min, x1_max = X_train[:, 0].min() - 0.5, X_train[:, 1].max()+0.5\n",
    "x2_min, x2_max = X_train[:, 0].min() - 0.5, X_train[:, 1].max()+0.5\n",
    "\n",
    "xx1, xx2 = np.mgrid[x1_min:x1_max:50j, x2_min:x2_max:50j]\n",
    "X_pred = np.column_stack([xx1.reshape(-1), xx2.reshape(-1)])\n",
    "y_pred = clf.predict(X_pred)\n",
    "\n",
    "ax_3.scatter(X_train[predicts == 0][:, 0], X_train[predicts == 0][:, 1], color='blue', label='M')\n",
    "ax_3.scatter(X_train[predicts == 1][:, 0], X_train[predicts == 1][:, 1], color='red', label='F')\n",
    "ax_3.set_ylabel('weight')\n",
    "ax_3.set_xlabel('height')\n",
    "ax_3.set_title('Тренировочная выборка')\n",
    "ax_3.pcolormesh(xx1, xx2, y_pred.reshape(xx1.shape), cmap=ListedColormap(['blue', 'red']), alpha=0.3, shading='auto')\n",
    "ax_3.legend()\n",
    "\n",
    "x1_min, x1_max = X_test[:, 0].min() - 0.5, X_test[:, 1].max()+0.5\n",
    "x2_min, x2_max = X_test[:, 0].min() - 0.5, X_test[:, 1].max()+0.5\n",
    "\n",
    "xx1, xx2 = np.mgrid[x1_min:x1_max:50j, x2_min:x2_max:50j]\n",
    "X_pred = np.column_stack([xx1.reshape(-1), xx2.reshape(-1)])\n",
    "y_pred = clf.predict(X_pred)\n",
    "\n",
    "predicts = clf.predict(X_test)\n",
    "ax_4.scatter(X_test[predicts == 0][:, 0], X_test[predicts == 0][:, 1], color='blue', label='M')\n",
    "ax_4.scatter(X_test[predicts == 1][:, 0], X_test[predicts == 1][:, 1], color='red', label='F')\n",
    "ax_4.set_ylabel('weight')\n",
    "ax_4.set_xlabel('height')\n",
    "ax_4.set_title('Тестовая выборка')\n",
    "ax_4.pcolormesh(xx1, xx2, y_pred.reshape(xx1.shape), cmap=ListedColormap(['blue', 'red']), alpha=0.3, shading='auto')\n",
    "ax_4.legend()"
   ]
  },
  {
   "cell_type": "markdown",
   "id": "19eece52-c5c1-4395-b7a1-8529d3fb958f",
   "metadata": {},
   "source": [
    "#### Задание 2."
   ]
  },
  {
   "cell_type": "markdown",
   "id": "025fad9e-f4ae-421f-873d-7a59a1a2c41f",
   "metadata": {},
   "source": [
    "##### 1) Возьмите данные с листа 1 и выделите валидационную и тестовую выборку."
   ]
  },
  {
   "cell_type": "code",
   "execution_count": 33,
   "id": "1b30d3dd-7a90-462a-a14d-5c4ebc75966a",
   "metadata": {},
   "outputs": [
    {
     "data": {
      "text/html": [
       "<div>\n",
       "<style scoped>\n",
       "    .dataframe tbody tr th:only-of-type {\n",
       "        vertical-align: middle;\n",
       "    }\n",
       "\n",
       "    .dataframe tbody tr th {\n",
       "        vertical-align: top;\n",
       "    }\n",
       "\n",
       "    .dataframe thead th {\n",
       "        text-align: right;\n",
       "    }\n",
       "</style>\n",
       "<table border=\"1\" class=\"dataframe\">\n",
       "  <thead>\n",
       "    <tr style=\"text-align: right;\">\n",
       "      <th></th>\n",
       "      <th>AT</th>\n",
       "      <th>V</th>\n",
       "      <th>AP</th>\n",
       "      <th>RH</th>\n",
       "      <th>PE</th>\n",
       "    </tr>\n",
       "  </thead>\n",
       "  <tbody>\n",
       "    <tr>\n",
       "      <th>0</th>\n",
       "      <td>14.96</td>\n",
       "      <td>41.76</td>\n",
       "      <td>1024.07</td>\n",
       "      <td>73.17</td>\n",
       "      <td>463.26</td>\n",
       "    </tr>\n",
       "    <tr>\n",
       "      <th>1</th>\n",
       "      <td>25.18</td>\n",
       "      <td>62.96</td>\n",
       "      <td>1020.04</td>\n",
       "      <td>59.08</td>\n",
       "      <td>444.37</td>\n",
       "    </tr>\n",
       "    <tr>\n",
       "      <th>2</th>\n",
       "      <td>5.11</td>\n",
       "      <td>39.40</td>\n",
       "      <td>1012.16</td>\n",
       "      <td>92.14</td>\n",
       "      <td>488.56</td>\n",
       "    </tr>\n",
       "    <tr>\n",
       "      <th>3</th>\n",
       "      <td>20.86</td>\n",
       "      <td>57.32</td>\n",
       "      <td>1010.24</td>\n",
       "      <td>76.64</td>\n",
       "      <td>446.48</td>\n",
       "    </tr>\n",
       "    <tr>\n",
       "      <th>4</th>\n",
       "      <td>10.82</td>\n",
       "      <td>37.50</td>\n",
       "      <td>1009.23</td>\n",
       "      <td>96.62</td>\n",
       "      <td>473.90</td>\n",
       "    </tr>\n",
       "  </tbody>\n",
       "</table>\n",
       "</div>"
      ],
      "text/plain": [
       "      AT      V       AP     RH      PE\n",
       "0  14.96  41.76  1024.07  73.17  463.26\n",
       "1  25.18  62.96  1020.04  59.08  444.37\n",
       "2   5.11  39.40  1012.16  92.14  488.56\n",
       "3  20.86  57.32  1010.24  76.64  446.48\n",
       "4  10.82  37.50  1009.23  96.62  473.90"
      ]
     },
     "execution_count": 33,
     "metadata": {},
     "output_type": "execute_result"
    }
   ],
   "source": [
    "df = pd.read_excel(\"Folds5x2_pp.xlsx\", sheet_name = \"Sheet1\")\n",
    "\n",
    "df.head()"
   ]
  },
  {
   "cell_type": "code",
   "execution_count": 34,
   "id": "c5ba9200-515f-43f7-9ac8-30f8d4a3cb12",
   "metadata": {},
   "outputs": [
    {
     "data": {
      "text/plain": [
       "((6123, 5), (1531, 5), (1914, 5))"
      ]
     },
     "execution_count": 34,
     "metadata": {},
     "output_type": "execute_result"
    }
   ],
   "source": [
    "train_validation, test = train_test_split(df, test_size = 0.2)\n",
    "train, validation = train_test_split(train_validation, test_size = 0.2)\n",
    "\n",
    "train.shape, validation.shape, test.shape"
   ]
  },
  {
   "cell_type": "markdown",
   "id": "4918a18a-81cf-4fcf-81fa-4525f5fd7a56",
   "metadata": {},
   "source": [
    "##### 2) Постройте регрессионную модель.  Замерьте коэффициент R^2 и среднюю ошибку предсказания на валидационной выборке."
   ]
  },
  {
   "cell_type": "code",
   "execution_count": 35,
   "id": "e9c3ba4c-6962-4c45-9e85-480cf77b2028",
   "metadata": {},
   "outputs": [],
   "source": [
    "from sklearn.linear_model import LinearRegression\n",
    "from sklearn.metrics import r2_score, mean_squared_error"
   ]
  },
  {
   "cell_type": "code",
   "execution_count": 36,
   "id": "013b63a5-8361-463d-9151-d8c1728044b0",
   "metadata": {},
   "outputs": [],
   "source": [
    "y_train = train[\"PE\"].to_numpy()\n",
    "X_train = train.drop([\"PE\"], axis=1).to_numpy()\n",
    "\n",
    "y_val = validation[\"PE\"].to_numpy()\n",
    "X_val = validation.drop([\"PE\"], axis=1).to_numpy()\n",
    "\n",
    "y_test = test[\"PE\"].to_numpy()\n",
    "X_test = test.drop([\"PE\"], axis=1).to_numpy()"
   ]
  },
  {
   "cell_type": "code",
   "execution_count": 37,
   "id": "5929c001-1fe3-40a3-8828-7272bcba2aec",
   "metadata": {},
   "outputs": [
    {
     "name": "stdout",
     "output_type": "stream",
     "text": [
      "0.9306568617306817\n"
     ]
    },
    {
     "data": {
      "text/plain": [
       "4.480135880588443"
      ]
     },
     "execution_count": 37,
     "metadata": {},
     "output_type": "execute_result"
    }
   ],
   "source": [
    "linear = LinearRegression().fit(X_val, y_val)\n",
    "print(linear.score(X_val, y_val)) # R^2\n",
    "\n",
    "predictions_val = linear.predict(X_val)\n",
    "np.sqrt(mean_squared_error(predictions_val, y_val)) # MSE"
   ]
  },
  {
   "cell_type": "markdown",
   "id": "3da5807b-152d-41e1-bf2b-b5ff53425707",
   "metadata": {},
   "source": [
    "##### 3) Постройте точки из валидационной выборки на плоскости (t=истинное значение, y=предсказание модели). Отобразите вместе с ними прямую y=t. "
   ]
  },
  {
   "cell_type": "code",
   "execution_count": 38,
   "id": "b4749a22-c117-42d8-928e-5a41030b9fdd",
   "metadata": {},
   "outputs": [
    {
     "data": {
      "image/png": "[encoded data removed]",
      "text/plain": [
       "<Figure size 576x396 with 1 Axes>"
      ]
     },
     "metadata": {},
     "output_type": "display_data"
    }
   ],
   "source": [
    "plt.scatter(y_val, predictions_val)\n",
    "plt.plot(y_val, y_val, color = 'k')\n",
    "plt.xlabel(\"Наблюдение\");\n",
    "plt.ylabel(\"Оценка\");"
   ]
  },
  {
   "cell_type": "code",
   "execution_count": null,
   "id": "a3148f30-5f61-4311-9887-cf810c3b56a6",
   "metadata": {},
   "outputs": [],
   "source": []
  }
 ],
 "metadata": {
  "kernelspec": {
   "display_name": "Python 3",
   "language": "python",
   "name": "python3"
  },
  "language_info": {
   "codemirror_mode": {
    "name": "ipython",
    "version": 3
   },
   "file_extension": ".py",
   "mimetype": "text/x-python",
   "name": "python",
   "nbconvert_exporter": "python",
   "pygments_lexer": "ipython3",
   "version": "3.8.8"
  }
 },
 "nbformat": 4,
 "nbformat_minor": 5
}
