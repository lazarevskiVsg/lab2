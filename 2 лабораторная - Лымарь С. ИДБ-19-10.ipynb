{
 "cells": [
  {
   "cell_type": "markdown",
   "id": "79efdb44-c671-4c2c-bb35-017770c5bf04",
   "metadata": {},
   "source": [
    "### 1. Импорт библиотек и настройка"
   ]
  },
  {
   "cell_type": "code",
   "execution_count": 1,
   "id": "bbe0d64d-d188-4ac5-a0bc-ae525c227cad",
   "metadata": {},
   "outputs": [],
   "source": [
    "import numpy as np\n",
    "import pandas as pd\n",
    "import matplotlib.pyplot as plt\n",
    "import seaborn as sns\n",
    "from sklearn.model_selection import train_test_split\n",
    "\n",
    "plt.style.use(\"seaborn\")"
   ]
  },
  {
   "cell_type": "markdown",
   "id": "91ec31ba-cf1a-4da6-a0e6-c1c06d4d0b56",
   "metadata": {},
   "source": [
    "### 2. Выполнение лабораторной работы №2. Часть 1"
   ]
  },
  {
   "cell_type": "markdown",
   "id": "58370ca4-d0e8-4176-8884-009fb3e38ec9",
   "metadata": {},
   "source": [
    "#### Задание 1."
   ]
  },
  {
   "cell_type": "code",
   "execution_count": 5,
   "id": "e65678e6-9dd8-4f70-ac58-00df5ab5fd20",
   "metadata": {},
   "outputs": [
    {
     "data": {
      "text/plain": [
       "(   OrderID   OrderDate  ProductID  UnitPrice  Quantity  Discount\n",
       " 0    10248  2007-01-30         11      28.62        12       0.0\n",
       " 1    10248  2007-01-30         42      14.04        10       0.0\n",
       " 2    10248  2007-01-30         72      12.71         5       0.0\n",
       " 3    10249  2006-01-29         14      22.80         9       0.0\n",
       " 4    10249  2006-01-29         51     101.20        40       0.0,\n",
       "    ProductID ProductName  QuantityPerUnit  UnitCost  UnitPrice CategoryName\n",
       " 0          1       Банан               10     15.37       20.0       Фрукты\n",
       " 1          2    Апельсин               10     16.17       19.0       Фрукты\n",
       " 2          5      Яблоко              100      4.72        6.0       Фрукты\n",
       " 3         11        Киви               25     21.10       28.0       Фрукты\n",
       " 4         24     Абрикос              100      3.90        4.5       Фрукты)"
      ]
     },
     "execution_count": 5,
     "metadata": {},
     "output_type": "execute_result"
    }
   ],
   "source": [
    "df1 = pd.read_csv(\"orders.csv\")\n",
    "df2 = pd.read_csv(\"products.csv\")\n",
    "\n",
    "df1.head(), df2.head(), "
   ]
  },
  {
   "cell_type": "code",
   "execution_count": 10,
   "id": "0862d540-f07d-4d84-bf31-7dcc09d323cc",
   "metadata": {},
   "outputs": [
    {
     "data": {
      "text/plain": [
       "(<bound method DataFrame.info of       OrderID   OrderDate  ProductID  UnitPrice  Quantity  Discount\n",
       " 0       10248  2007-01-30         11      28.62        12      0.00\n",
       " 1       10248  2007-01-30         42      14.04        10      0.00\n",
       " 2       10248  2007-01-30         72      12.71         5      0.00\n",
       " 3       10249  2006-01-29         14      22.80         9      0.00\n",
       " 4       10249  2006-01-29         51     101.20        40      0.00\n",
       " ...       ...         ...        ...        ...       ...       ...\n",
       " 2167    11083  2006-06-16         37       4.50         7      0.00\n",
       " 2168    11083  2006-06-16         42      15.65        10      0.00\n",
       " 2169    11083  2006-06-16         47      25.50         5      0.00\n",
       " 2170    11083  2006-06-16         51      99.90         3      0.03\n",
       " 2171    11083  2006-06-16         62      24.00         5      0.04\n",
       " \n",
       " [2172 rows x 6 columns]>,\n",
       " <bound method DataFrame.info of     ProductID   ProductName  QuantityPerUnit  UnitCost  UnitPrice CategoryName\n",
       " 0           1         Банан               10     15.37      20.00       Фрукты\n",
       " 1           2      Апельсин               10     16.17      19.00       Фрукты\n",
       " 2           5        Яблоко              100      4.72       6.00       Фрукты\n",
       " 3          11          Киви               25     21.10      28.00       Фрукты\n",
       " 4          24       Абрикос              100      3.90       4.50       Фрукты\n",
       " ..        ...           ...              ...       ...        ...          ...\n",
       " 72         42          Утка                1     10.95      14.00   Мясо/Птица\n",
       " 73         52      Говядина               14     70.81      80.00   Мясо/Птица\n",
       " 74         56       Свинина               15     34.17      38.00   Мясо/Птица\n",
       " 75         57   Фарш свиной               20     16.14      19.50   Мясо/Птица\n",
       " 76         64  Фарш говяжий                1     29.25      33.25   Мясо/Птица\n",
       " \n",
       " [77 rows x 6 columns]>)"
      ]
     },
     "execution_count": 10,
     "metadata": {},
     "output_type": "execute_result"
    }
   ],
   "source": [
    "df1.info, df2.info"
   ]
  },
  {
   "cell_type": "code",
   "execution_count": 8,
   "id": "b6573864-25e7-497a-87e5-dc914155a697",
   "metadata": {},
   "outputs": [
    {
     "data": {
      "text/html": [
       "<div>\n",
       "<style scoped>\n",
       "    .dataframe tbody tr th:only-of-type {\n",
       "        vertical-align: middle;\n",
       "    }\n",
       "\n",
       "    .dataframe tbody tr th {\n",
       "        vertical-align: top;\n",
       "    }\n",
       "\n",
       "    .dataframe thead th {\n",
       "        text-align: right;\n",
       "    }\n",
       "</style>\n",
       "<table border=\"1\" class=\"dataframe\">\n",
       "  <thead>\n",
       "    <tr style=\"text-align: right;\">\n",
       "      <th></th>\n",
       "      <th>OrderID</th>\n",
       "      <th>OrderDate</th>\n",
       "      <th>ProductID</th>\n",
       "      <th>UnitPrice_x</th>\n",
       "      <th>Quantity</th>\n",
       "      <th>Discount</th>\n",
       "      <th>ProductName</th>\n",
       "      <th>QuantityPerUnit</th>\n",
       "      <th>UnitCost</th>\n",
       "      <th>UnitPrice_y</th>\n",
       "      <th>CategoryName</th>\n",
       "    </tr>\n",
       "  </thead>\n",
       "  <tbody>\n",
       "    <tr>\n",
       "      <th>0</th>\n",
       "      <td>10248</td>\n",
       "      <td>2007-01-30</td>\n",
       "      <td>11</td>\n",
       "      <td>28.62</td>\n",
       "      <td>12</td>\n",
       "      <td>0.0</td>\n",
       "      <td>Киви</td>\n",
       "      <td>25</td>\n",
       "      <td>21.1</td>\n",
       "      <td>28.0</td>\n",
       "      <td>Фрукты</td>\n",
       "    </tr>\n",
       "    <tr>\n",
       "      <th>1</th>\n",
       "      <td>10296</td>\n",
       "      <td>2004-02-02</td>\n",
       "      <td>11</td>\n",
       "      <td>26.62</td>\n",
       "      <td>12</td>\n",
       "      <td>0.0</td>\n",
       "      <td>Киви</td>\n",
       "      <td>25</td>\n",
       "      <td>21.1</td>\n",
       "      <td>28.0</td>\n",
       "      <td>Фрукты</td>\n",
       "    </tr>\n",
       "    <tr>\n",
       "      <th>2</th>\n",
       "      <td>10327</td>\n",
       "      <td>2004-07-08</td>\n",
       "      <td>11</td>\n",
       "      <td>29.10</td>\n",
       "      <td>50</td>\n",
       "      <td>0.2</td>\n",
       "      <td>Киви</td>\n",
       "      <td>25</td>\n",
       "      <td>21.1</td>\n",
       "      <td>28.0</td>\n",
       "      <td>Фрукты</td>\n",
       "    </tr>\n",
       "    <tr>\n",
       "      <th>3</th>\n",
       "      <td>10353</td>\n",
       "      <td>2007-06-11</td>\n",
       "      <td>11</td>\n",
       "      <td>29.75</td>\n",
       "      <td>12</td>\n",
       "      <td>0.2</td>\n",
       "      <td>Киви</td>\n",
       "      <td>25</td>\n",
       "      <td>21.1</td>\n",
       "      <td>28.0</td>\n",
       "      <td>Фрукты</td>\n",
       "    </tr>\n",
       "    <tr>\n",
       "      <th>4</th>\n",
       "      <td>10365</td>\n",
       "      <td>2004-06-24</td>\n",
       "      <td>11</td>\n",
       "      <td>29.48</td>\n",
       "      <td>24</td>\n",
       "      <td>0.0</td>\n",
       "      <td>Киви</td>\n",
       "      <td>25</td>\n",
       "      <td>21.1</td>\n",
       "      <td>28.0</td>\n",
       "      <td>Фрукты</td>\n",
       "    </tr>\n",
       "  </tbody>\n",
       "</table>\n",
       "</div>"
      ],
      "text/plain": [
       "   OrderID   OrderDate  ProductID  UnitPrice_x  Quantity  Discount  \\\n",
       "0    10248  2007-01-30         11        28.62        12       0.0   \n",
       "1    10296  2004-02-02         11        26.62        12       0.0   \n",
       "2    10327  2004-07-08         11        29.10        50       0.2   \n",
       "3    10353  2007-06-11         11        29.75        12       0.2   \n",
       "4    10365  2004-06-24         11        29.48        24       0.0   \n",
       "\n",
       "  ProductName  QuantityPerUnit  UnitCost  UnitPrice_y CategoryName  \n",
       "0        Киви               25      21.1         28.0       Фрукты  \n",
       "1        Киви               25      21.1         28.0       Фрукты  \n",
       "2        Киви               25      21.1         28.0       Фрукты  \n",
       "3        Киви               25      21.1         28.0       Фрукты  \n",
       "4        Киви               25      21.1         28.0       Фрукты  "
      ]
     },
     "execution_count": 8,
     "metadata": {},
     "output_type": "execute_result"
    }
   ],
   "source": [
    "df_joined = pd.merge(df1, df2, how=\"inner\", on=\"ProductID\")\n",
    "df_joined.head()"
   ]
  },
  {
   "cell_type": "markdown",
   "id": "ef93c0f1-d009-42ec-ac93-75952616291d",
   "metadata": {},
   "source": [
    "##### 1) Определите число уникальных продуктов в каждой категории"
   ]
  },
  {
   "cell_type": "code",
   "execution_count": 35,
   "id": "f850e3fb-35bc-4e26-b34f-738b1bdcf530",
   "metadata": {},
   "outputs": [
    {
     "data": {
      "text/plain": [
       "CategoryName\n",
       "Кондитерские изделия    561\n",
       "Крупы                    98\n",
       "Молочные продукты       122\n",
       "Морепродукты            157\n",
       "Мясо/Птица              199\n",
       "Овощи                   355\n",
       "Приправы                318\n",
       "Фрукты                  362\n",
       "Name: ProductName, dtype: int64"
      ]
     },
     "execution_count": 35,
     "metadata": {},
     "output_type": "execute_result"
    }
   ],
   "source": [
    "df_joined.groupby(by=\"CategoryName\")[\"ProductName\"].count()"
   ]
  },
  {
   "cell_type": "markdown",
   "id": "753cf6c8-7c54-4475-953e-2f2e71ead547",
   "metadata": {},
   "source": [
    "##### 2) Выведите все продукты в категории \"Морепродукты\""
   ]
  },
  {
   "cell_type": "code",
   "execution_count": 17,
   "id": "3c14298e-518f-43e7-bb63-47e9f05c9ae8",
   "metadata": {},
   "outputs": [
    {
     "data": {
      "text/html": [
       "<div>\n",
       "<style scoped>\n",
       "    .dataframe tbody tr th:only-of-type {\n",
       "        vertical-align: middle;\n",
       "    }\n",
       "\n",
       "    .dataframe tbody tr th {\n",
       "        vertical-align: top;\n",
       "    }\n",
       "\n",
       "    .dataframe thead th {\n",
       "        text-align: right;\n",
       "    }\n",
       "</style>\n",
       "<table border=\"1\" class=\"dataframe\">\n",
       "  <thead>\n",
       "    <tr style=\"text-align: right;\">\n",
       "      <th></th>\n",
       "      <th>OrderID</th>\n",
       "      <th>OrderDate</th>\n",
       "      <th>ProductID</th>\n",
       "      <th>UnitPrice_x</th>\n",
       "      <th>Quantity</th>\n",
       "      <th>Discount</th>\n",
       "      <th>ProductName</th>\n",
       "      <th>QuantityPerUnit</th>\n",
       "      <th>UnitCost</th>\n",
       "      <th>UnitPrice_y</th>\n",
       "      <th>CategoryName</th>\n",
       "    </tr>\n",
       "  </thead>\n",
       "  <tbody>\n",
       "    <tr>\n",
       "      <th>130</th>\n",
       "      <td>10249</td>\n",
       "      <td>2006-01-29</td>\n",
       "      <td>51</td>\n",
       "      <td>101.20</td>\n",
       "      <td>40</td>\n",
       "      <td>0.00</td>\n",
       "      <td>Мидии</td>\n",
       "      <td>10</td>\n",
       "      <td>82.74</td>\n",
       "      <td>99.9</td>\n",
       "      <td>Морепродукты</td>\n",
       "    </tr>\n",
       "    <tr>\n",
       "      <th>131</th>\n",
       "      <td>10250</td>\n",
       "      <td>2007-02-03</td>\n",
       "      <td>51</td>\n",
       "      <td>97.67</td>\n",
       "      <td>35</td>\n",
       "      <td>0.15</td>\n",
       "      <td>Мидии</td>\n",
       "      <td>10</td>\n",
       "      <td>82.74</td>\n",
       "      <td>99.9</td>\n",
       "      <td>Морепродукты</td>\n",
       "    </tr>\n",
       "    <tr>\n",
       "      <th>132</th>\n",
       "      <td>10291</td>\n",
       "      <td>2004-03-24</td>\n",
       "      <td>51</td>\n",
       "      <td>106.56</td>\n",
       "      <td>2</td>\n",
       "      <td>0.10</td>\n",
       "      <td>Мидии</td>\n",
       "      <td>10</td>\n",
       "      <td>82.74</td>\n",
       "      <td>99.9</td>\n",
       "      <td>Морепродукты</td>\n",
       "    </tr>\n",
       "    <tr>\n",
       "      <th>133</th>\n",
       "      <td>10335</td>\n",
       "      <td>2005-11-16</td>\n",
       "      <td>51</td>\n",
       "      <td>104.29</td>\n",
       "      <td>48</td>\n",
       "      <td>0.20</td>\n",
       "      <td>Мидии</td>\n",
       "      <td>10</td>\n",
       "      <td>82.74</td>\n",
       "      <td>99.9</td>\n",
       "      <td>Морепродукты</td>\n",
       "    </tr>\n",
       "    <tr>\n",
       "      <th>134</th>\n",
       "      <td>10362</td>\n",
       "      <td>2004-06-22</td>\n",
       "      <td>51</td>\n",
       "      <td>109.79</td>\n",
       "      <td>20</td>\n",
       "      <td>0.00</td>\n",
       "      <td>Мидии</td>\n",
       "      <td>10</td>\n",
       "      <td>82.74</td>\n",
       "      <td>99.9</td>\n",
       "      <td>Морепродукты</td>\n",
       "    </tr>\n",
       "    <tr>\n",
       "      <th>...</th>\n",
       "      <td>...</td>\n",
       "      <td>...</td>\n",
       "      <td>...</td>\n",
       "      <td>...</td>\n",
       "      <td>...</td>\n",
       "      <td>...</td>\n",
       "      <td>...</td>\n",
       "      <td>...</td>\n",
       "      <td>...</td>\n",
       "      <td>...</td>\n",
       "      <td>...</td>\n",
       "    </tr>\n",
       "    <tr>\n",
       "      <th>2167</th>\n",
       "      <td>10515</td>\n",
       "      <td>2004-12-18</td>\n",
       "      <td>9</td>\n",
       "      <td>42.05</td>\n",
       "      <td>16</td>\n",
       "      <td>0.15</td>\n",
       "      <td>Омары</td>\n",
       "      <td>10</td>\n",
       "      <td>32.90</td>\n",
       "      <td>39.0</td>\n",
       "      <td>Морепродукты</td>\n",
       "    </tr>\n",
       "    <tr>\n",
       "      <th>2168</th>\n",
       "      <td>10687</td>\n",
       "      <td>2006-04-26</td>\n",
       "      <td>9</td>\n",
       "      <td>41.17</td>\n",
       "      <td>50</td>\n",
       "      <td>0.25</td>\n",
       "      <td>Омары</td>\n",
       "      <td>10</td>\n",
       "      <td>32.90</td>\n",
       "      <td>39.0</td>\n",
       "      <td>Морепродукты</td>\n",
       "    </tr>\n",
       "    <tr>\n",
       "      <th>2169</th>\n",
       "      <td>10693</td>\n",
       "      <td>2006-05-02</td>\n",
       "      <td>9</td>\n",
       "      <td>35.30</td>\n",
       "      <td>6</td>\n",
       "      <td>0.00</td>\n",
       "      <td>Омары</td>\n",
       "      <td>10</td>\n",
       "      <td>32.90</td>\n",
       "      <td>39.0</td>\n",
       "      <td>Морепродукты</td>\n",
       "    </tr>\n",
       "    <tr>\n",
       "      <th>2170</th>\n",
       "      <td>10848</td>\n",
       "      <td>2007-06-21</td>\n",
       "      <td>9</td>\n",
       "      <td>40.32</td>\n",
       "      <td>3</td>\n",
       "      <td>0.00</td>\n",
       "      <td>Омары</td>\n",
       "      <td>10</td>\n",
       "      <td>32.90</td>\n",
       "      <td>39.0</td>\n",
       "      <td>Морепродукты</td>\n",
       "    </tr>\n",
       "    <tr>\n",
       "      <th>2171</th>\n",
       "      <td>11083</td>\n",
       "      <td>2006-06-16</td>\n",
       "      <td>9</td>\n",
       "      <td>38.90</td>\n",
       "      <td>5</td>\n",
       "      <td>0.00</td>\n",
       "      <td>Омары</td>\n",
       "      <td>10</td>\n",
       "      <td>32.90</td>\n",
       "      <td>39.0</td>\n",
       "      <td>Морепродукты</td>\n",
       "    </tr>\n",
       "  </tbody>\n",
       "</table>\n",
       "<p>157 rows × 11 columns</p>\n",
       "</div>"
      ],
      "text/plain": [
       "      OrderID   OrderDate  ProductID  UnitPrice_x  Quantity  Discount  \\\n",
       "130     10249  2006-01-29         51       101.20        40      0.00   \n",
       "131     10250  2007-02-03         51        97.67        35      0.15   \n",
       "132     10291  2004-03-24         51       106.56         2      0.10   \n",
       "133     10335  2005-11-16         51       104.29        48      0.20   \n",
       "134     10362  2004-06-22         51       109.79        20      0.00   \n",
       "...       ...         ...        ...          ...       ...       ...   \n",
       "2167    10515  2004-12-18          9        42.05        16      0.15   \n",
       "2168    10687  2006-04-26          9        41.17        50      0.25   \n",
       "2169    10693  2006-05-02          9        35.30         6      0.00   \n",
       "2170    10848  2007-06-21          9        40.32         3      0.00   \n",
       "2171    11083  2006-06-16          9        38.90         5      0.00   \n",
       "\n",
       "     ProductName  QuantityPerUnit  UnitCost  UnitPrice_y  CategoryName  \n",
       "130        Мидии               10     82.74         99.9  Морепродукты  \n",
       "131        Мидии               10     82.74         99.9  Морепродукты  \n",
       "132        Мидии               10     82.74         99.9  Морепродукты  \n",
       "133        Мидии               10     82.74         99.9  Морепродукты  \n",
       "134        Мидии               10     82.74         99.9  Морепродукты  \n",
       "...          ...              ...       ...          ...           ...  \n",
       "2167       Омары               10     32.90         39.0  Морепродукты  \n",
       "2168       Омары               10     32.90         39.0  Морепродукты  \n",
       "2169       Омары               10     32.90         39.0  Морепродукты  \n",
       "2170       Омары               10     32.90         39.0  Морепродукты  \n",
       "2171       Омары               10     32.90         39.0  Морепродукты  \n",
       "\n",
       "[157 rows x 11 columns]"
      ]
     },
     "execution_count": 17,
     "metadata": {},
     "output_type": "execute_result"
    }
   ],
   "source": [
    "df_joined[df_joined[\"CategoryName\"] == 'Морепродукты']"
   ]
  },
  {
   "cell_type": "code",
   "execution_count": 26,
   "id": "c0dfc503-c8cf-41b6-a627-614869945f71",
   "metadata": {},
   "outputs": [
    {
     "data": {
      "text/html": [
       "<div>\n",
       "<style scoped>\n",
       "    .dataframe tbody tr th:only-of-type {\n",
       "        vertical-align: middle;\n",
       "    }\n",
       "\n",
       "    .dataframe tbody tr th {\n",
       "        vertical-align: top;\n",
       "    }\n",
       "\n",
       "    .dataframe thead th {\n",
       "        text-align: right;\n",
       "    }\n",
       "</style>\n",
       "<table border=\"1\" class=\"dataframe\">\n",
       "  <thead>\n",
       "    <tr style=\"text-align: right;\">\n",
       "      <th></th>\n",
       "      <th>OrderID</th>\n",
       "      <th>OrderDate</th>\n",
       "      <th>ProductID</th>\n",
       "      <th>UnitPrice_x</th>\n",
       "      <th>Quantity</th>\n",
       "      <th>Discount</th>\n",
       "      <th>ProductName</th>\n",
       "      <th>QuantityPerUnit</th>\n",
       "      <th>UnitCost</th>\n",
       "      <th>UnitPrice_y</th>\n",
       "      <th>CategoryName</th>\n",
       "    </tr>\n",
       "  </thead>\n",
       "  <tbody>\n",
       "    <tr>\n",
       "      <th>0</th>\n",
       "      <td>10248</td>\n",
       "      <td>2007-01-30</td>\n",
       "      <td>11</td>\n",
       "      <td>28.62</td>\n",
       "      <td>12</td>\n",
       "      <td>0.00</td>\n",
       "      <td>Киви</td>\n",
       "      <td>25</td>\n",
       "      <td>21.1</td>\n",
       "      <td>28.0</td>\n",
       "      <td>Фрукты</td>\n",
       "    </tr>\n",
       "    <tr>\n",
       "      <th>1</th>\n",
       "      <td>10296</td>\n",
       "      <td>2004-02-02</td>\n",
       "      <td>11</td>\n",
       "      <td>26.62</td>\n",
       "      <td>12</td>\n",
       "      <td>0.00</td>\n",
       "      <td>Киви</td>\n",
       "      <td>25</td>\n",
       "      <td>21.1</td>\n",
       "      <td>28.0</td>\n",
       "      <td>Фрукты</td>\n",
       "    </tr>\n",
       "    <tr>\n",
       "      <th>2</th>\n",
       "      <td>10327</td>\n",
       "      <td>2004-07-08</td>\n",
       "      <td>11</td>\n",
       "      <td>29.10</td>\n",
       "      <td>50</td>\n",
       "      <td>0.20</td>\n",
       "      <td>Киви</td>\n",
       "      <td>25</td>\n",
       "      <td>21.1</td>\n",
       "      <td>28.0</td>\n",
       "      <td>Фрукты</td>\n",
       "    </tr>\n",
       "    <tr>\n",
       "      <th>3</th>\n",
       "      <td>10353</td>\n",
       "      <td>2007-06-11</td>\n",
       "      <td>11</td>\n",
       "      <td>29.75</td>\n",
       "      <td>12</td>\n",
       "      <td>0.20</td>\n",
       "      <td>Киви</td>\n",
       "      <td>25</td>\n",
       "      <td>21.1</td>\n",
       "      <td>28.0</td>\n",
       "      <td>Фрукты</td>\n",
       "    </tr>\n",
       "    <tr>\n",
       "      <th>4</th>\n",
       "      <td>10365</td>\n",
       "      <td>2004-06-24</td>\n",
       "      <td>11</td>\n",
       "      <td>29.48</td>\n",
       "      <td>24</td>\n",
       "      <td>0.00</td>\n",
       "      <td>Киви</td>\n",
       "      <td>25</td>\n",
       "      <td>21.1</td>\n",
       "      <td>28.0</td>\n",
       "      <td>Фрукты</td>\n",
       "    </tr>\n",
       "    <tr>\n",
       "      <th>...</th>\n",
       "      <td>...</td>\n",
       "      <td>...</td>\n",
       "      <td>...</td>\n",
       "      <td>...</td>\n",
       "      <td>...</td>\n",
       "      <td>...</td>\n",
       "      <td>...</td>\n",
       "      <td>...</td>\n",
       "      <td>...</td>\n",
       "      <td>...</td>\n",
       "      <td>...</td>\n",
       "    </tr>\n",
       "    <tr>\n",
       "      <th>2167</th>\n",
       "      <td>10515</td>\n",
       "      <td>2004-12-18</td>\n",
       "      <td>9</td>\n",
       "      <td>42.05</td>\n",
       "      <td>16</td>\n",
       "      <td>0.15</td>\n",
       "      <td>Омары</td>\n",
       "      <td>10</td>\n",
       "      <td>32.9</td>\n",
       "      <td>39.0</td>\n",
       "      <td>Морепродукты</td>\n",
       "    </tr>\n",
       "    <tr>\n",
       "      <th>2168</th>\n",
       "      <td>10687</td>\n",
       "      <td>2006-04-26</td>\n",
       "      <td>9</td>\n",
       "      <td>41.17</td>\n",
       "      <td>50</td>\n",
       "      <td>0.25</td>\n",
       "      <td>Омары</td>\n",
       "      <td>10</td>\n",
       "      <td>32.9</td>\n",
       "      <td>39.0</td>\n",
       "      <td>Морепродукты</td>\n",
       "    </tr>\n",
       "    <tr>\n",
       "      <th>2169</th>\n",
       "      <td>10693</td>\n",
       "      <td>2006-05-02</td>\n",
       "      <td>9</td>\n",
       "      <td>35.30</td>\n",
       "      <td>6</td>\n",
       "      <td>0.00</td>\n",
       "      <td>Омары</td>\n",
       "      <td>10</td>\n",
       "      <td>32.9</td>\n",
       "      <td>39.0</td>\n",
       "      <td>Морепродукты</td>\n",
       "    </tr>\n",
       "    <tr>\n",
       "      <th>2170</th>\n",
       "      <td>10848</td>\n",
       "      <td>2007-06-21</td>\n",
       "      <td>9</td>\n",
       "      <td>40.32</td>\n",
       "      <td>3</td>\n",
       "      <td>0.00</td>\n",
       "      <td>Омары</td>\n",
       "      <td>10</td>\n",
       "      <td>32.9</td>\n",
       "      <td>39.0</td>\n",
       "      <td>Морепродукты</td>\n",
       "    </tr>\n",
       "    <tr>\n",
       "      <th>2171</th>\n",
       "      <td>11083</td>\n",
       "      <td>2006-06-16</td>\n",
       "      <td>9</td>\n",
       "      <td>38.90</td>\n",
       "      <td>5</td>\n",
       "      <td>0.00</td>\n",
       "      <td>Омары</td>\n",
       "      <td>10</td>\n",
       "      <td>32.9</td>\n",
       "      <td>39.0</td>\n",
       "      <td>Морепродукты</td>\n",
       "    </tr>\n",
       "  </tbody>\n",
       "</table>\n",
       "<p>2172 rows × 11 columns</p>\n",
       "</div>"
      ],
      "text/plain": [
       "      OrderID   OrderDate  ProductID  UnitPrice_x  Quantity  Discount  \\\n",
       "0       10248  2007-01-30         11        28.62        12      0.00   \n",
       "1       10296  2004-02-02         11        26.62        12      0.00   \n",
       "2       10327  2004-07-08         11        29.10        50      0.20   \n",
       "3       10353  2007-06-11         11        29.75        12      0.20   \n",
       "4       10365  2004-06-24         11        29.48        24      0.00   \n",
       "...       ...         ...        ...          ...       ...       ...   \n",
       "2167    10515  2004-12-18          9        42.05        16      0.15   \n",
       "2168    10687  2006-04-26          9        41.17        50      0.25   \n",
       "2169    10693  2006-05-02          9        35.30         6      0.00   \n",
       "2170    10848  2007-06-21          9        40.32         3      0.00   \n",
       "2171    11083  2006-06-16          9        38.90         5      0.00   \n",
       "\n",
       "     ProductName  QuantityPerUnit  UnitCost  UnitPrice_y  CategoryName  \n",
       "0           Киви               25      21.1         28.0        Фрукты  \n",
       "1           Киви               25      21.1         28.0        Фрукты  \n",
       "2           Киви               25      21.1         28.0        Фрукты  \n",
       "3           Киви               25      21.1         28.0        Фрукты  \n",
       "4           Киви               25      21.1         28.0        Фрукты  \n",
       "...          ...              ...       ...          ...           ...  \n",
       "2167       Омары               10      32.9         39.0  Морепродукты  \n",
       "2168       Омары               10      32.9         39.0  Морепродукты  \n",
       "2169       Омары               10      32.9         39.0  Морепродукты  \n",
       "2170       Омары               10      32.9         39.0  Морепродукты  \n",
       "2171       Омары               10      32.9         39.0  Морепродукты  \n",
       "\n",
       "[2172 rows x 11 columns]"
      ]
     },
     "execution_count": 26,
     "metadata": {},
     "output_type": "execute_result"
    }
   ],
   "source": [
    "df_joined"
   ]
  },
  {
   "cell_type": "markdown",
   "id": "df81b572-eb61-4787-95a2-e8414eba3cc1",
   "metadata": {},
   "source": [
    "##### 3) Выведите график числа заказов за каждый прошедший месяц."
   ]
  },
  {
   "cell_type": "code",
   "execution_count": 33,
   "id": "46e8c1f5-fc59-4c1d-9575-ccaf3fac064e",
   "metadata": {},
   "outputs": [
    {
     "data": {
      "image/png": "[encoded data removed]",
      "text/plain": [
       "<Figure size 576x396 with 1 Axes>"
      ]
     },
     "metadata": {},
     "output_type": "display_data"
    }
   ],
   "source": [
    "temp_df = df_joined.copy()\n",
    "temp_df.index = date = pd.to_datetime(df_joined[\"OrderDate\"])\n",
    "temp_df.groupby(by=[temp_df.index.month])[\"Quantity\"].count().plot();"
   ]
  },
  {
   "cell_type": "code",
   "execution_count": 36,
   "id": "3f600d50-d704-49b6-82db-c28328e45c27",
   "metadata": {},
   "outputs": [
    {
     "data": {
      "text/html": [
       "<div>\n",
       "<style scoped>\n",
       "    .dataframe tbody tr th:only-of-type {\n",
       "        vertical-align: middle;\n",
       "    }\n",
       "\n",
       "    .dataframe tbody tr th {\n",
       "        vertical-align: top;\n",
       "    }\n",
       "\n",
       "    .dataframe thead th {\n",
       "        text-align: right;\n",
       "    }\n",
       "</style>\n",
       "<table border=\"1\" class=\"dataframe\">\n",
       "  <thead>\n",
       "    <tr style=\"text-align: right;\">\n",
       "      <th></th>\n",
       "      <th>OrderID</th>\n",
       "      <th>OrderDate</th>\n",
       "      <th>ProductID</th>\n",
       "      <th>UnitPrice_x</th>\n",
       "      <th>Quantity</th>\n",
       "      <th>Discount</th>\n",
       "      <th>ProductName</th>\n",
       "      <th>QuantityPerUnit</th>\n",
       "      <th>UnitCost</th>\n",
       "      <th>UnitPrice_y</th>\n",
       "      <th>CategoryName</th>\n",
       "    </tr>\n",
       "  </thead>\n",
       "  <tbody>\n",
       "    <tr>\n",
       "      <th>0</th>\n",
       "      <td>10248</td>\n",
       "      <td>2007-01-30</td>\n",
       "      <td>11</td>\n",
       "      <td>28.62</td>\n",
       "      <td>12</td>\n",
       "      <td>0.0</td>\n",
       "      <td>Киви</td>\n",
       "      <td>25</td>\n",
       "      <td>21.1</td>\n",
       "      <td>28.0</td>\n",
       "      <td>Фрукты</td>\n",
       "    </tr>\n",
       "    <tr>\n",
       "      <th>1</th>\n",
       "      <td>10296</td>\n",
       "      <td>2004-02-02</td>\n",
       "      <td>11</td>\n",
       "      <td>26.62</td>\n",
       "      <td>12</td>\n",
       "      <td>0.0</td>\n",
       "      <td>Киви</td>\n",
       "      <td>25</td>\n",
       "      <td>21.1</td>\n",
       "      <td>28.0</td>\n",
       "      <td>Фрукты</td>\n",
       "    </tr>\n",
       "    <tr>\n",
       "      <th>2</th>\n",
       "      <td>10327</td>\n",
       "      <td>2004-07-08</td>\n",
       "      <td>11</td>\n",
       "      <td>29.10</td>\n",
       "      <td>50</td>\n",
       "      <td>0.2</td>\n",
       "      <td>Киви</td>\n",
       "      <td>25</td>\n",
       "      <td>21.1</td>\n",
       "      <td>28.0</td>\n",
       "      <td>Фрукты</td>\n",
       "    </tr>\n",
       "    <tr>\n",
       "      <th>3</th>\n",
       "      <td>10353</td>\n",
       "      <td>2007-06-11</td>\n",
       "      <td>11</td>\n",
       "      <td>29.75</td>\n",
       "      <td>12</td>\n",
       "      <td>0.2</td>\n",
       "      <td>Киви</td>\n",
       "      <td>25</td>\n",
       "      <td>21.1</td>\n",
       "      <td>28.0</td>\n",
       "      <td>Фрукты</td>\n",
       "    </tr>\n",
       "    <tr>\n",
       "      <th>4</th>\n",
       "      <td>10365</td>\n",
       "      <td>2004-06-24</td>\n",
       "      <td>11</td>\n",
       "      <td>29.48</td>\n",
       "      <td>24</td>\n",
       "      <td>0.0</td>\n",
       "      <td>Киви</td>\n",
       "      <td>25</td>\n",
       "      <td>21.1</td>\n",
       "      <td>28.0</td>\n",
       "      <td>Фрукты</td>\n",
       "    </tr>\n",
       "  </tbody>\n",
       "</table>\n",
       "</div>"
      ],
      "text/plain": [
       "   OrderID   OrderDate  ProductID  UnitPrice_x  Quantity  Discount  \\\n",
       "0    10248  2007-01-30         11        28.62        12       0.0   \n",
       "1    10296  2004-02-02         11        26.62        12       0.0   \n",
       "2    10327  2004-07-08         11        29.10        50       0.2   \n",
       "3    10353  2007-06-11         11        29.75        12       0.2   \n",
       "4    10365  2004-06-24         11        29.48        24       0.0   \n",
       "\n",
       "  ProductName  QuantityPerUnit  UnitCost  UnitPrice_y CategoryName  \n",
       "0        Киви               25      21.1         28.0       Фрукты  \n",
       "1        Киви               25      21.1         28.0       Фрукты  \n",
       "2        Киви               25      21.1         28.0       Фрукты  \n",
       "3        Киви               25      21.1         28.0       Фрукты  \n",
       "4        Киви               25      21.1         28.0       Фрукты  "
      ]
     },
     "execution_count": 36,
     "metadata": {},
     "output_type": "execute_result"
    }
   ],
   "source": [
    "df_joined.head()"
   ]
  },
  {
   "cell_type": "markdown",
   "id": "57e30527-5ff2-4823-822c-a2abbf36e9bd",
   "metadata": {},
   "source": [
    "##### 4) Заведите столбец \"OrderSum\" (сколько было оплачено за продукт по заказу, с учётом его количества, стоимости единицы товара и скидки). Определите самые дорогие заказы (сгруппировав по OrderID)"
   ]
  },
  {
   "cell_type": "code",
   "execution_count": 46,
   "id": "90b8bbb0-5b99-4c60-a7ae-a645610913d3",
   "metadata": {},
   "outputs": [
    {
     "data": {
      "text/html": [
       "<div>\n",
       "<style scoped>\n",
       "    .dataframe tbody tr th:only-of-type {\n",
       "        vertical-align: middle;\n",
       "    }\n",
       "\n",
       "    .dataframe tbody tr th {\n",
       "        vertical-align: top;\n",
       "    }\n",
       "\n",
       "    .dataframe thead th {\n",
       "        text-align: right;\n",
       "    }\n",
       "</style>\n",
       "<table border=\"1\" class=\"dataframe\">\n",
       "  <thead>\n",
       "    <tr style=\"text-align: right;\">\n",
       "      <th></th>\n",
       "      <th>OrderID</th>\n",
       "      <th>OrderDate</th>\n",
       "      <th>ProductID</th>\n",
       "      <th>UnitPrice_x</th>\n",
       "      <th>Quantity</th>\n",
       "      <th>Discount</th>\n",
       "      <th>ProductName</th>\n",
       "      <th>QuantityPerUnit</th>\n",
       "      <th>UnitCost</th>\n",
       "      <th>UnitPrice_y</th>\n",
       "      <th>CategoryName</th>\n",
       "      <th>OrderSum</th>\n",
       "    </tr>\n",
       "  </thead>\n",
       "  <tbody>\n",
       "    <tr>\n",
       "      <th>0</th>\n",
       "      <td>10248</td>\n",
       "      <td>2007-01-30</td>\n",
       "      <td>11</td>\n",
       "      <td>28.62</td>\n",
       "      <td>12</td>\n",
       "      <td>0.00</td>\n",
       "      <td>Киви</td>\n",
       "      <td>25</td>\n",
       "      <td>21.1</td>\n",
       "      <td>28.0</td>\n",
       "      <td>Фрукты</td>\n",
       "      <td>8586.0</td>\n",
       "    </tr>\n",
       "    <tr>\n",
       "      <th>1</th>\n",
       "      <td>10296</td>\n",
       "      <td>2004-02-02</td>\n",
       "      <td>11</td>\n",
       "      <td>26.62</td>\n",
       "      <td>12</td>\n",
       "      <td>0.00</td>\n",
       "      <td>Киви</td>\n",
       "      <td>25</td>\n",
       "      <td>21.1</td>\n",
       "      <td>28.0</td>\n",
       "      <td>Фрукты</td>\n",
       "      <td>7986.0</td>\n",
       "    </tr>\n",
       "    <tr>\n",
       "      <th>2</th>\n",
       "      <td>10327</td>\n",
       "      <td>2004-07-08</td>\n",
       "      <td>11</td>\n",
       "      <td>29.10</td>\n",
       "      <td>50</td>\n",
       "      <td>0.20</td>\n",
       "      <td>Киви</td>\n",
       "      <td>25</td>\n",
       "      <td>21.1</td>\n",
       "      <td>28.0</td>\n",
       "      <td>Фрукты</td>\n",
       "      <td>35000.0</td>\n",
       "    </tr>\n",
       "    <tr>\n",
       "      <th>3</th>\n",
       "      <td>10353</td>\n",
       "      <td>2007-06-11</td>\n",
       "      <td>11</td>\n",
       "      <td>29.75</td>\n",
       "      <td>12</td>\n",
       "      <td>0.20</td>\n",
       "      <td>Киви</td>\n",
       "      <td>25</td>\n",
       "      <td>21.1</td>\n",
       "      <td>28.0</td>\n",
       "      <td>Фрукты</td>\n",
       "      <td>8400.0</td>\n",
       "    </tr>\n",
       "    <tr>\n",
       "      <th>4</th>\n",
       "      <td>10365</td>\n",
       "      <td>2004-06-24</td>\n",
       "      <td>11</td>\n",
       "      <td>29.48</td>\n",
       "      <td>24</td>\n",
       "      <td>0.00</td>\n",
       "      <td>Киви</td>\n",
       "      <td>25</td>\n",
       "      <td>21.1</td>\n",
       "      <td>28.0</td>\n",
       "      <td>Фрукты</td>\n",
       "      <td>17688.0</td>\n",
       "    </tr>\n",
       "    <tr>\n",
       "      <th>...</th>\n",
       "      <td>...</td>\n",
       "      <td>...</td>\n",
       "      <td>...</td>\n",
       "      <td>...</td>\n",
       "      <td>...</td>\n",
       "      <td>...</td>\n",
       "      <td>...</td>\n",
       "      <td>...</td>\n",
       "      <td>...</td>\n",
       "      <td>...</td>\n",
       "      <td>...</td>\n",
       "      <td>...</td>\n",
       "    </tr>\n",
       "    <tr>\n",
       "      <th>2167</th>\n",
       "      <td>10515</td>\n",
       "      <td>2004-12-18</td>\n",
       "      <td>9</td>\n",
       "      <td>42.05</td>\n",
       "      <td>16</td>\n",
       "      <td>0.15</td>\n",
       "      <td>Омары</td>\n",
       "      <td>10</td>\n",
       "      <td>32.9</td>\n",
       "      <td>39.0</td>\n",
       "      <td>Морепродукты</td>\n",
       "      <td>6240.0</td>\n",
       "    </tr>\n",
       "    <tr>\n",
       "      <th>2168</th>\n",
       "      <td>10687</td>\n",
       "      <td>2006-04-26</td>\n",
       "      <td>9</td>\n",
       "      <td>41.17</td>\n",
       "      <td>50</td>\n",
       "      <td>0.25</td>\n",
       "      <td>Омары</td>\n",
       "      <td>10</td>\n",
       "      <td>32.9</td>\n",
       "      <td>39.0</td>\n",
       "      <td>Морепродукты</td>\n",
       "      <td>19500.0</td>\n",
       "    </tr>\n",
       "    <tr>\n",
       "      <th>2169</th>\n",
       "      <td>10693</td>\n",
       "      <td>2006-05-02</td>\n",
       "      <td>9</td>\n",
       "      <td>35.30</td>\n",
       "      <td>6</td>\n",
       "      <td>0.00</td>\n",
       "      <td>Омары</td>\n",
       "      <td>10</td>\n",
       "      <td>32.9</td>\n",
       "      <td>39.0</td>\n",
       "      <td>Морепродукты</td>\n",
       "      <td>2118.0</td>\n",
       "    </tr>\n",
       "    <tr>\n",
       "      <th>2170</th>\n",
       "      <td>10848</td>\n",
       "      <td>2007-06-21</td>\n",
       "      <td>9</td>\n",
       "      <td>40.32</td>\n",
       "      <td>3</td>\n",
       "      <td>0.00</td>\n",
       "      <td>Омары</td>\n",
       "      <td>10</td>\n",
       "      <td>32.9</td>\n",
       "      <td>39.0</td>\n",
       "      <td>Морепродукты</td>\n",
       "      <td>1209.6</td>\n",
       "    </tr>\n",
       "    <tr>\n",
       "      <th>2171</th>\n",
       "      <td>11083</td>\n",
       "      <td>2006-06-16</td>\n",
       "      <td>9</td>\n",
       "      <td>38.90</td>\n",
       "      <td>5</td>\n",
       "      <td>0.00</td>\n",
       "      <td>Омары</td>\n",
       "      <td>10</td>\n",
       "      <td>32.9</td>\n",
       "      <td>39.0</td>\n",
       "      <td>Морепродукты</td>\n",
       "      <td>1945.0</td>\n",
       "    </tr>\n",
       "  </tbody>\n",
       "</table>\n",
       "<p>2172 rows × 12 columns</p>\n",
       "</div>"
      ],
      "text/plain": [
       "      OrderID   OrderDate  ProductID  UnitPrice_x  Quantity  Discount  \\\n",
       "0       10248  2007-01-30         11        28.62        12      0.00   \n",
       "1       10296  2004-02-02         11        26.62        12      0.00   \n",
       "2       10327  2004-07-08         11        29.10        50      0.20   \n",
       "3       10353  2007-06-11         11        29.75        12      0.20   \n",
       "4       10365  2004-06-24         11        29.48        24      0.00   \n",
       "...       ...         ...        ...          ...       ...       ...   \n",
       "2167    10515  2004-12-18          9        42.05        16      0.15   \n",
       "2168    10687  2006-04-26          9        41.17        50      0.25   \n",
       "2169    10693  2006-05-02          9        35.30         6      0.00   \n",
       "2170    10848  2007-06-21          9        40.32         3      0.00   \n",
       "2171    11083  2006-06-16          9        38.90         5      0.00   \n",
       "\n",
       "     ProductName  QuantityPerUnit  UnitCost  UnitPrice_y  CategoryName  \\\n",
       "0           Киви               25      21.1         28.0        Фрукты   \n",
       "1           Киви               25      21.1         28.0        Фрукты   \n",
       "2           Киви               25      21.1         28.0        Фрукты   \n",
       "3           Киви               25      21.1         28.0        Фрукты   \n",
       "4           Киви               25      21.1         28.0        Фрукты   \n",
       "...          ...              ...       ...          ...           ...   \n",
       "2167       Омары               10      32.9         39.0  Морепродукты   \n",
       "2168       Омары               10      32.9         39.0  Морепродукты   \n",
       "2169       Омары               10      32.9         39.0  Морепродукты   \n",
       "2170       Омары               10      32.9         39.0  Морепродукты   \n",
       "2171       Омары               10      32.9         39.0  Морепродукты   \n",
       "\n",
       "      OrderSum  \n",
       "0       8586.0  \n",
       "1       7986.0  \n",
       "2      35000.0  \n",
       "3       8400.0  \n",
       "4      17688.0  \n",
       "...        ...  \n",
       "2167    6240.0  \n",
       "2168   19500.0  \n",
       "2169    2118.0  \n",
       "2170    1209.6  \n",
       "2171    1945.0  \n",
       "\n",
       "[2172 rows x 12 columns]"
      ]
     },
     "execution_count": 46,
     "metadata": {},
     "output_type": "execute_result"
    }
   ],
   "source": [
    "# df_joined[\"OrderSum\"] = df_joined[\"Quantity\"] * df_joined[\"QuantityPerUnit\"] * df_joined[\"UnitCost\"]\n",
    "df_joined[\"OrderSum\"] = np.where(df_joined[\"Discount\"] == 0.0, df_joined[\"Quantity\"] * df_joined[\"QuantityPerUnit\"] * df_joined[\"UnitPrice_x\"],\n",
    "                                df_joined[\"Quantity\"] * df_joined[\"QuantityPerUnit\"] * df_joined[\"UnitPrice_y\"])\n",
    "df_joined"
   ]
  },
  {
   "cell_type": "markdown",
   "id": "849c0290-19d4-45fa-a313-e3e1e97886b1",
   "metadata": {},
   "source": [
    "##### 5) Определите продукты с максимальной стоимостью за шт. (не за единицу товара)"
   ]
  },
  {
   "cell_type": "code",
   "execution_count": 34,
   "id": "f8144159-3da7-427f-9770-f35b05bd6813",
   "metadata": {},
   "outputs": [
    {
     "data": {
      "text/plain": [
       "ProductName\n",
       "Абрикос                   3.90\n",
       "Ананас                   24.98\n",
       "Апельсин                 16.17\n",
       "Бадьян                   37.17\n",
       "Баклажан                 62.38\n",
       "                         ...  \n",
       "Чеснок                    8.68\n",
       "Чупа-Чупс                 6.69\n",
       "Шоколад Молочное Чудо    25.39\n",
       "Шоколад Снежинка         22.24\n",
       "Яблоко                    4.72\n",
       "Name: UnitCost, Length: 77, dtype: float64"
      ]
     },
     "execution_count": 34,
     "metadata": {},
     "output_type": "execute_result"
    }
   ],
   "source": [
    "df_joined.groupby(by=\"ProductName\")[\"UnitCost\"].max()"
   ]
  },
  {
   "cell_type": "markdown",
   "id": "d995bc4f-7db4-426d-b2ca-84fea16ffd39",
   "metadata": {},
   "source": [
    "#### Задание 2."
   ]
  },
  {
   "cell_type": "markdown",
   "id": "c0acf075-eeca-46a7-b661-e0b599a6f3c5",
   "metadata": {},
   "source": [
    "##### 1) Для каждой категории продуктов выведите средний доход от продаж. (OrderSum)"
   ]
  },
  {
   "cell_type": "code",
   "execution_count": 44,
   "id": "097c0cf1-fbfe-4ad2-8aa1-642e60da87ff",
   "metadata": {},
   "outputs": [
    {
     "data": {
      "text/plain": [
       "CategoryName\n",
       "Кондитерские изделия     7960.650463\n",
       "Крупы                   15371.150816\n",
       "Молочные продукты        2531.016475\n",
       "Морепродукты            14033.045478\n",
       "Мясо/Птица               9297.006482\n",
       "Овощи                    8569.916817\n",
       "Приправы                 4915.506321\n",
       "Фрукты                   5735.712845\n",
       "Name: OrderSum, dtype: float64"
      ]
     },
     "execution_count": 44,
     "metadata": {},
     "output_type": "execute_result"
    }
   ],
   "source": [
    "df_joined.groupby(by=\"CategoryName\")[\"OrderSum\"].mean()"
   ]
  },
  {
   "cell_type": "markdown",
   "id": "bbd092a1-1575-43ef-8ada-58b8e0cb2afc",
   "metadata": {},
   "source": [
    "##### 2) Введите столбец \"Profit\" - разность между доходами и приблизительной закупочной стоимостью проданных товаров."
   ]
  },
  {
   "cell_type": "code",
   "execution_count": 49,
   "id": "bc05b994-3b5f-48e7-b8e5-2e258ac37c4f",
   "metadata": {},
   "outputs": [
    {
     "data": {
      "text/html": [
       "<div>\n",
       "<style scoped>\n",
       "    .dataframe tbody tr th:only-of-type {\n",
       "        vertical-align: middle;\n",
       "    }\n",
       "\n",
       "    .dataframe tbody tr th {\n",
       "        vertical-align: top;\n",
       "    }\n",
       "\n",
       "    .dataframe thead th {\n",
       "        text-align: right;\n",
       "    }\n",
       "</style>\n",
       "<table border=\"1\" class=\"dataframe\">\n",
       "  <thead>\n",
       "    <tr style=\"text-align: right;\">\n",
       "      <th></th>\n",
       "      <th>OrderID</th>\n",
       "      <th>OrderDate</th>\n",
       "      <th>ProductID</th>\n",
       "      <th>UnitPrice_x</th>\n",
       "      <th>Quantity</th>\n",
       "      <th>Discount</th>\n",
       "      <th>ProductName</th>\n",
       "      <th>QuantityPerUnit</th>\n",
       "      <th>UnitCost</th>\n",
       "      <th>UnitPrice_y</th>\n",
       "      <th>CategoryName</th>\n",
       "      <th>OrderSum</th>\n",
       "      <th>Profit</th>\n",
       "    </tr>\n",
       "  </thead>\n",
       "  <tbody>\n",
       "    <tr>\n",
       "      <th>0</th>\n",
       "      <td>10248</td>\n",
       "      <td>2007-01-30</td>\n",
       "      <td>11</td>\n",
       "      <td>28.62</td>\n",
       "      <td>12</td>\n",
       "      <td>0.00</td>\n",
       "      <td>Киви</td>\n",
       "      <td>25</td>\n",
       "      <td>21.1</td>\n",
       "      <td>28.0</td>\n",
       "      <td>Фрукты</td>\n",
       "      <td>8586.0</td>\n",
       "      <td>2256.0</td>\n",
       "    </tr>\n",
       "    <tr>\n",
       "      <th>1</th>\n",
       "      <td>10296</td>\n",
       "      <td>2004-02-02</td>\n",
       "      <td>11</td>\n",
       "      <td>26.62</td>\n",
       "      <td>12</td>\n",
       "      <td>0.00</td>\n",
       "      <td>Киви</td>\n",
       "      <td>25</td>\n",
       "      <td>21.1</td>\n",
       "      <td>28.0</td>\n",
       "      <td>Фрукты</td>\n",
       "      <td>7986.0</td>\n",
       "      <td>1656.0</td>\n",
       "    </tr>\n",
       "    <tr>\n",
       "      <th>2</th>\n",
       "      <td>10327</td>\n",
       "      <td>2004-07-08</td>\n",
       "      <td>11</td>\n",
       "      <td>29.10</td>\n",
       "      <td>50</td>\n",
       "      <td>0.20</td>\n",
       "      <td>Киви</td>\n",
       "      <td>25</td>\n",
       "      <td>21.1</td>\n",
       "      <td>28.0</td>\n",
       "      <td>Фрукты</td>\n",
       "      <td>35000.0</td>\n",
       "      <td>8625.0</td>\n",
       "    </tr>\n",
       "    <tr>\n",
       "      <th>3</th>\n",
       "      <td>10353</td>\n",
       "      <td>2007-06-11</td>\n",
       "      <td>11</td>\n",
       "      <td>29.75</td>\n",
       "      <td>12</td>\n",
       "      <td>0.20</td>\n",
       "      <td>Киви</td>\n",
       "      <td>25</td>\n",
       "      <td>21.1</td>\n",
       "      <td>28.0</td>\n",
       "      <td>Фрукты</td>\n",
       "      <td>8400.0</td>\n",
       "      <td>2070.0</td>\n",
       "    </tr>\n",
       "    <tr>\n",
       "      <th>4</th>\n",
       "      <td>10365</td>\n",
       "      <td>2004-06-24</td>\n",
       "      <td>11</td>\n",
       "      <td>29.48</td>\n",
       "      <td>24</td>\n",
       "      <td>0.00</td>\n",
       "      <td>Киви</td>\n",
       "      <td>25</td>\n",
       "      <td>21.1</td>\n",
       "      <td>28.0</td>\n",
       "      <td>Фрукты</td>\n",
       "      <td>17688.0</td>\n",
       "      <td>5028.0</td>\n",
       "    </tr>\n",
       "    <tr>\n",
       "      <th>...</th>\n",
       "      <td>...</td>\n",
       "      <td>...</td>\n",
       "      <td>...</td>\n",
       "      <td>...</td>\n",
       "      <td>...</td>\n",
       "      <td>...</td>\n",
       "      <td>...</td>\n",
       "      <td>...</td>\n",
       "      <td>...</td>\n",
       "      <td>...</td>\n",
       "      <td>...</td>\n",
       "      <td>...</td>\n",
       "      <td>...</td>\n",
       "    </tr>\n",
       "    <tr>\n",
       "      <th>2167</th>\n",
       "      <td>10515</td>\n",
       "      <td>2004-12-18</td>\n",
       "      <td>9</td>\n",
       "      <td>42.05</td>\n",
       "      <td>16</td>\n",
       "      <td>0.15</td>\n",
       "      <td>Омары</td>\n",
       "      <td>10</td>\n",
       "      <td>32.9</td>\n",
       "      <td>39.0</td>\n",
       "      <td>Морепродукты</td>\n",
       "      <td>6240.0</td>\n",
       "      <td>976.0</td>\n",
       "    </tr>\n",
       "    <tr>\n",
       "      <th>2168</th>\n",
       "      <td>10687</td>\n",
       "      <td>2006-04-26</td>\n",
       "      <td>9</td>\n",
       "      <td>41.17</td>\n",
       "      <td>50</td>\n",
       "      <td>0.25</td>\n",
       "      <td>Омары</td>\n",
       "      <td>10</td>\n",
       "      <td>32.9</td>\n",
       "      <td>39.0</td>\n",
       "      <td>Морепродукты</td>\n",
       "      <td>19500.0</td>\n",
       "      <td>3050.0</td>\n",
       "    </tr>\n",
       "    <tr>\n",
       "      <th>2169</th>\n",
       "      <td>10693</td>\n",
       "      <td>2006-05-02</td>\n",
       "      <td>9</td>\n",
       "      <td>35.30</td>\n",
       "      <td>6</td>\n",
       "      <td>0.00</td>\n",
       "      <td>Омары</td>\n",
       "      <td>10</td>\n",
       "      <td>32.9</td>\n",
       "      <td>39.0</td>\n",
       "      <td>Морепродукты</td>\n",
       "      <td>2118.0</td>\n",
       "      <td>144.0</td>\n",
       "    </tr>\n",
       "    <tr>\n",
       "      <th>2170</th>\n",
       "      <td>10848</td>\n",
       "      <td>2007-06-21</td>\n",
       "      <td>9</td>\n",
       "      <td>40.32</td>\n",
       "      <td>3</td>\n",
       "      <td>0.00</td>\n",
       "      <td>Омары</td>\n",
       "      <td>10</td>\n",
       "      <td>32.9</td>\n",
       "      <td>39.0</td>\n",
       "      <td>Морепродукты</td>\n",
       "      <td>1209.6</td>\n",
       "      <td>222.6</td>\n",
       "    </tr>\n",
       "    <tr>\n",
       "      <th>2171</th>\n",
       "      <td>11083</td>\n",
       "      <td>2006-06-16</td>\n",
       "      <td>9</td>\n",
       "      <td>38.90</td>\n",
       "      <td>5</td>\n",
       "      <td>0.00</td>\n",
       "      <td>Омары</td>\n",
       "      <td>10</td>\n",
       "      <td>32.9</td>\n",
       "      <td>39.0</td>\n",
       "      <td>Морепродукты</td>\n",
       "      <td>1945.0</td>\n",
       "      <td>300.0</td>\n",
       "    </tr>\n",
       "  </tbody>\n",
       "</table>\n",
       "<p>2172 rows × 13 columns</p>\n",
       "</div>"
      ],
      "text/plain": [
       "      OrderID   OrderDate  ProductID  UnitPrice_x  Quantity  Discount  \\\n",
       "0       10248  2007-01-30         11        28.62        12      0.00   \n",
       "1       10296  2004-02-02         11        26.62        12      0.00   \n",
       "2       10327  2004-07-08         11        29.10        50      0.20   \n",
       "3       10353  2007-06-11         11        29.75        12      0.20   \n",
       "4       10365  2004-06-24         11        29.48        24      0.00   \n",
       "...       ...         ...        ...          ...       ...       ...   \n",
       "2167    10515  2004-12-18          9        42.05        16      0.15   \n",
       "2168    10687  2006-04-26          9        41.17        50      0.25   \n",
       "2169    10693  2006-05-02          9        35.30         6      0.00   \n",
       "2170    10848  2007-06-21          9        40.32         3      0.00   \n",
       "2171    11083  2006-06-16          9        38.90         5      0.00   \n",
       "\n",
       "     ProductName  QuantityPerUnit  UnitCost  UnitPrice_y  CategoryName  \\\n",
       "0           Киви               25      21.1         28.0        Фрукты   \n",
       "1           Киви               25      21.1         28.0        Фрукты   \n",
       "2           Киви               25      21.1         28.0        Фрукты   \n",
       "3           Киви               25      21.1         28.0        Фрукты   \n",
       "4           Киви               25      21.1         28.0        Фрукты   \n",
       "...          ...              ...       ...          ...           ...   \n",
       "2167       Омары               10      32.9         39.0  Морепродукты   \n",
       "2168       Омары               10      32.9         39.0  Морепродукты   \n",
       "2169       Омары               10      32.9         39.0  Морепродукты   \n",
       "2170       Омары               10      32.9         39.0  Морепродукты   \n",
       "2171       Омары               10      32.9         39.0  Морепродукты   \n",
       "\n",
       "      OrderSum  Profit  \n",
       "0       8586.0  2256.0  \n",
       "1       7986.0  1656.0  \n",
       "2      35000.0  8625.0  \n",
       "3       8400.0  2070.0  \n",
       "4      17688.0  5028.0  \n",
       "...        ...     ...  \n",
       "2167    6240.0   976.0  \n",
       "2168   19500.0  3050.0  \n",
       "2169    2118.0   144.0  \n",
       "2170    1209.6   222.6  \n",
       "2171    1945.0   300.0  \n",
       "\n",
       "[2172 rows x 13 columns]"
      ]
     },
     "execution_count": 49,
     "metadata": {},
     "output_type": "execute_result"
    }
   ],
   "source": [
    "df_joined[\"Profit\"] = df_joined[\"OrderSum\"] - df_joined[\"Quantity\"] * df_joined[\"QuantityPerUnit\"] * df_joined[\"UnitCost\"]\n",
    "df_joined"
   ]
  },
  {
   "cell_type": "markdown",
   "id": "92ca5147-9f48-47af-8491-18c8cd5b6de5",
   "metadata": {},
   "source": [
    "##### 3) Найдите по убыванию суммарной прибыли категории товаров, обеспечивающие  её 80 процентов. Выведите аналогичные данные только за 2005 и 2006 год."
   ]
  },
  {
   "cell_type": "code",
   "execution_count": 53,
   "id": "2a9fb8df-1e78-4478-8476-23c140624620",
   "metadata": {},
   "outputs": [
    {
     "data": {
      "text/plain": [
       "array(['Фрукты', 'Мясо/Птица', 'Овощи', 'Крупы', 'Морепродукты',\n",
       "       'Приправы', 'Кондитерские изделия', 'Молочные продукты'],\n",
       "      dtype=object)"
      ]
     },
     "execution_count": 53,
     "metadata": {},
     "output_type": "execute_result"
    }
   ],
   "source": [
    "df_joined[\"CategoryName\"].unique()"
   ]
  },
  {
   "cell_type": "code",
   "execution_count": 61,
   "id": "86916542-86e9-4602-ad47-ee9cbbefaf46",
   "metadata": {},
   "outputs": [
    {
     "data": {
      "text/plain": [
       "CategoryName\n",
       "Кондитерские изделия    930348.57\n",
       "Крупы                   294083.42\n",
       "Молочные продукты        72855.99\n",
       "Морепродукты            464952.45\n",
       "Мясо/Птица              300192.76\n",
       "Овощи                   729903.47\n",
       "Приправы                360440.88\n",
       "Фрукты                  415682.58\n",
       "Name: Profit, dtype: float64"
      ]
     },
     "execution_count": 61,
     "metadata": {},
     "output_type": "execute_result"
    }
   ],
   "source": [
    "df_joined.groupby(by=\"CategoryName\")[\"Profit\"].sum() "
   ]
  },
  {
   "cell_type": "code",
   "execution_count": 62,
   "id": "c5886f4a-ba66-415a-add4-ab113a4400d2",
   "metadata": {},
   "outputs": [
    {
     "data": {
      "text/plain": [
       "3568460.1199999996"
      ]
     },
     "execution_count": 62,
     "metadata": {},
     "output_type": "execute_result"
    }
   ],
   "source": [
    "summed = df_joined[\"Profit\"].sum()\n",
    "summed"
   ]
  },
  {
   "cell_type": "code",
   "execution_count": 64,
   "id": "f63979c2-50ed-44cb-bb2c-484a4a75d55c",
   "metadata": {},
   "outputs": [
    {
     "data": {
      "text/plain": [
       "CategoryName\n",
       "Кондитерские изделия    0.260714\n",
       "Крупы                   0.082412\n",
       "Молочные продукты       0.020417\n",
       "Морепродукты            0.130295\n",
       "Мясо/Птица              0.084124\n",
       "Овощи                   0.204543\n",
       "Приправы                0.101007\n",
       "Фрукты                  0.116488\n",
       "Name: Profit, dtype: float64"
      ]
     },
     "execution_count": 64,
     "metadata": {},
     "output_type": "execute_result"
    }
   ],
   "source": [
    "new_df = df_joined.groupby(by=\"CategoryName\")[\"Profit\"].sum() / df_joined[\"Profit\"].sum()\n",
    "new_df"
   ]
  },
  {
   "cell_type": "code",
   "execution_count": 68,
   "id": "d6e1c141-5971-4b70-8623-c8bdcaaed505",
   "metadata": {},
   "outputs": [
    {
     "data": {
      "text/plain": [
       "CategoryName\n",
       "Молочные продукты       0.020417\n",
       "Крупы                   0.082412\n",
       "Мясо/Птица              0.084124\n",
       "Приправы                0.101007\n",
       "Фрукты                  0.116488\n",
       "Морепродукты            0.130295\n",
       "Овощи                   0.204543\n",
       "Кондитерские изделия    0.260714\n",
       "Name: Profit, dtype: float64"
      ]
     },
     "execution_count": 68,
     "metadata": {},
     "output_type": "execute_result"
    }
   ],
   "source": [
    "new_df.sort_values()"
   ]
  },
  {
   "cell_type": "markdown",
   "id": "0793aa50-97c1-4726-af19-86e3a8dac481",
   "metadata": {},
   "source": [
    "#### Задание 3."
   ]
  },
  {
   "cell_type": "markdown",
   "id": "172672dd-3fc6-4319-9bc4-47175c1a1aa1",
   "metadata": {},
   "source": [
    "##### 1) Разбейте датасет на тренировочную, валидационную и тестовую выборку"
   ]
  },
  {
   "cell_type": "code",
   "execution_count": 71,
   "id": "c879e3bb-081f-49a7-a1ee-ce803ff5b3bb",
   "metadata": {},
   "outputs": [
    {
     "data": {
      "text/html": [
       "<div>\n",
       "<style scoped>\n",
       "    .dataframe tbody tr th:only-of-type {\n",
       "        vertical-align: middle;\n",
       "    }\n",
       "\n",
       "    .dataframe tbody tr th {\n",
       "        vertical-align: top;\n",
       "    }\n",
       "\n",
       "    .dataframe thead th {\n",
       "        text-align: right;\n",
       "    }\n",
       "</style>\n",
       "<table border=\"1\" class=\"dataframe\">\n",
       "  <thead>\n",
       "    <tr style=\"text-align: right;\">\n",
       "      <th></th>\n",
       "      <th>longitude</th>\n",
       "      <th>latitude</th>\n",
       "      <th>housing_median_age</th>\n",
       "      <th>total_rooms</th>\n",
       "      <th>total_bedrooms</th>\n",
       "      <th>population</th>\n",
       "      <th>households</th>\n",
       "      <th>median_income</th>\n",
       "      <th>median_house_value</th>\n",
       "      <th>ocean_proximity</th>\n",
       "    </tr>\n",
       "  </thead>\n",
       "  <tbody>\n",
       "    <tr>\n",
       "      <th>0</th>\n",
       "      <td>-122.23</td>\n",
       "      <td>37.88</td>\n",
       "      <td>41.0</td>\n",
       "      <td>880.0</td>\n",
       "      <td>129.0</td>\n",
       "      <td>322.0</td>\n",
       "      <td>126.0</td>\n",
       "      <td>8.3252</td>\n",
       "      <td>452600.0</td>\n",
       "      <td>NEAR BAY</td>\n",
       "    </tr>\n",
       "    <tr>\n",
       "      <th>1</th>\n",
       "      <td>-122.22</td>\n",
       "      <td>37.86</td>\n",
       "      <td>21.0</td>\n",
       "      <td>7099.0</td>\n",
       "      <td>1106.0</td>\n",
       "      <td>2401.0</td>\n",
       "      <td>1138.0</td>\n",
       "      <td>8.3014</td>\n",
       "      <td>358500.0</td>\n",
       "      <td>NEAR BAY</td>\n",
       "    </tr>\n",
       "    <tr>\n",
       "      <th>2</th>\n",
       "      <td>-122.24</td>\n",
       "      <td>37.85</td>\n",
       "      <td>52.0</td>\n",
       "      <td>1467.0</td>\n",
       "      <td>190.0</td>\n",
       "      <td>496.0</td>\n",
       "      <td>177.0</td>\n",
       "      <td>7.2574</td>\n",
       "      <td>352100.0</td>\n",
       "      <td>NEAR BAY</td>\n",
       "    </tr>\n",
       "    <tr>\n",
       "      <th>3</th>\n",
       "      <td>-122.25</td>\n",
       "      <td>37.85</td>\n",
       "      <td>52.0</td>\n",
       "      <td>1274.0</td>\n",
       "      <td>235.0</td>\n",
       "      <td>558.0</td>\n",
       "      <td>219.0</td>\n",
       "      <td>5.6431</td>\n",
       "      <td>341300.0</td>\n",
       "      <td>NEAR BAY</td>\n",
       "    </tr>\n",
       "    <tr>\n",
       "      <th>4</th>\n",
       "      <td>-122.25</td>\n",
       "      <td>37.85</td>\n",
       "      <td>52.0</td>\n",
       "      <td>1627.0</td>\n",
       "      <td>280.0</td>\n",
       "      <td>565.0</td>\n",
       "      <td>259.0</td>\n",
       "      <td>3.8462</td>\n",
       "      <td>342200.0</td>\n",
       "      <td>NEAR BAY</td>\n",
       "    </tr>\n",
       "  </tbody>\n",
       "</table>\n",
       "</div>"
      ],
      "text/plain": [
       "   longitude  latitude  housing_median_age  total_rooms  total_bedrooms  \\\n",
       "0    -122.23     37.88                41.0        880.0           129.0   \n",
       "1    -122.22     37.86                21.0       7099.0          1106.0   \n",
       "2    -122.24     37.85                52.0       1467.0           190.0   \n",
       "3    -122.25     37.85                52.0       1274.0           235.0   \n",
       "4    -122.25     37.85                52.0       1627.0           280.0   \n",
       "\n",
       "   population  households  median_income  median_house_value ocean_proximity  \n",
       "0       322.0       126.0         8.3252            452600.0        NEAR BAY  \n",
       "1      2401.0      1138.0         8.3014            358500.0        NEAR BAY  \n",
       "2       496.0       177.0         7.2574            352100.0        NEAR BAY  \n",
       "3       558.0       219.0         5.6431            341300.0        NEAR BAY  \n",
       "4       565.0       259.0         3.8462            342200.0        NEAR BAY  "
      ]
     },
     "execution_count": 71,
     "metadata": {},
     "output_type": "execute_result"
    }
   ],
   "source": [
    "df = pd.read_csv(\"housing.csv\")\n",
    "df.head()"
   ]
  },
  {
   "cell_type": "code",
   "execution_count": 75,
   "id": "0e8bfc84-13ba-4d0a-8264-e24479cf8699",
   "metadata": {},
   "outputs": [
    {
     "data": {
      "text/plain": [
       "((16512, 10), (4128, 10))"
      ]
     },
     "execution_count": 75,
     "metadata": {},
     "output_type": "execute_result"
    }
   ],
   "source": [
    "train_validation, test = train_test_split(df, test_size = 0.2)\n",
    "train_validation.shape, test.shape"
   ]
  },
  {
   "cell_type": "code",
   "execution_count": 76,
   "id": "3e242e61-a475-400c-a4e9-7fa467423db6",
   "metadata": {},
   "outputs": [
    {
     "data": {
      "text/plain": [
       "((13209, 10), (3303, 10))"
      ]
     },
     "execution_count": 76,
     "metadata": {},
     "output_type": "execute_result"
    }
   ],
   "source": [
    "train, validation = train_test_split(train_validation, test_size = 0.2)\n",
    "train.shape, validation.shape"
   ]
  },
  {
   "cell_type": "markdown",
   "id": "64a50f80-153a-40ff-b621-acf2f0ad909a",
   "metadata": {},
   "source": [
    "##### 2) Проведите преобразование категориального признака ocean_proximity через OneHot или Dummy-кодировку\n"
   ]
  },
  {
   "cell_type": "code",
   "execution_count": 86,
   "id": "6b05ca94-c715-4923-bcb6-762615333009",
   "metadata": {},
   "outputs": [
    {
     "data": {
      "text/html": [
       "<div>\n",
       "<style scoped>\n",
       "    .dataframe tbody tr th:only-of-type {\n",
       "        vertical-align: middle;\n",
       "    }\n",
       "\n",
       "    .dataframe tbody tr th {\n",
       "        vertical-align: top;\n",
       "    }\n",
       "\n",
       "    .dataframe thead th {\n",
       "        text-align: right;\n",
       "    }\n",
       "</style>\n",
       "<table border=\"1\" class=\"dataframe\">\n",
       "  <thead>\n",
       "    <tr style=\"text-align: right;\">\n",
       "      <th></th>\n",
       "      <th>longitude</th>\n",
       "      <th>latitude</th>\n",
       "      <th>housing_median_age</th>\n",
       "      <th>total_rooms</th>\n",
       "      <th>total_bedrooms</th>\n",
       "      <th>population</th>\n",
       "      <th>households</th>\n",
       "      <th>median_income</th>\n",
       "      <th>median_house_value</th>\n",
       "      <th>ocean_proximity_&lt;1H OCEAN</th>\n",
       "      <th>ocean_proximity_INLAND</th>\n",
       "      <th>ocean_proximity_ISLAND</th>\n",
       "      <th>ocean_proximity_NEAR BAY</th>\n",
       "      <th>ocean_proximity_NEAR OCEAN</th>\n",
       "    </tr>\n",
       "  </thead>\n",
       "  <tbody>\n",
       "    <tr>\n",
       "      <th>4305</th>\n",
       "      <td>-118.30</td>\n",
       "      <td>34.09</td>\n",
       "      <td>32.0</td>\n",
       "      <td>2202.0</td>\n",
       "      <td>674.0</td>\n",
       "      <td>2178.0</td>\n",
       "      <td>635.0</td>\n",
       "      <td>2.0307</td>\n",
       "      <td>226700.0</td>\n",
       "      <td>1</td>\n",
       "      <td>0</td>\n",
       "      <td>0</td>\n",
       "      <td>0</td>\n",
       "      <td>0</td>\n",
       "    </tr>\n",
       "    <tr>\n",
       "      <th>9246</th>\n",
       "      <td>-120.06</td>\n",
       "      <td>36.97</td>\n",
       "      <td>38.0</td>\n",
       "      <td>1542.0</td>\n",
       "      <td>364.0</td>\n",
       "      <td>1220.0</td>\n",
       "      <td>334.0</td>\n",
       "      <td>1.6250</td>\n",
       "      <td>52800.0</td>\n",
       "      <td>0</td>\n",
       "      <td>1</td>\n",
       "      <td>0</td>\n",
       "      <td>0</td>\n",
       "      <td>0</td>\n",
       "    </tr>\n",
       "    <tr>\n",
       "      <th>7069</th>\n",
       "      <td>-118.02</td>\n",
       "      <td>33.95</td>\n",
       "      <td>36.0</td>\n",
       "      <td>1632.0</td>\n",
       "      <td>295.0</td>\n",
       "      <td>797.0</td>\n",
       "      <td>283.0</td>\n",
       "      <td>4.2292</td>\n",
       "      <td>179500.0</td>\n",
       "      <td>1</td>\n",
       "      <td>0</td>\n",
       "      <td>0</td>\n",
       "      <td>0</td>\n",
       "      <td>0</td>\n",
       "    </tr>\n",
       "    <tr>\n",
       "      <th>16355</th>\n",
       "      <td>-121.32</td>\n",
       "      <td>38.03</td>\n",
       "      <td>25.0</td>\n",
       "      <td>2474.0</td>\n",
       "      <td>513.0</td>\n",
       "      <td>1947.0</td>\n",
       "      <td>524.0</td>\n",
       "      <td>2.5742</td>\n",
       "      <td>98400.0</td>\n",
       "      <td>0</td>\n",
       "      <td>1</td>\n",
       "      <td>0</td>\n",
       "      <td>0</td>\n",
       "      <td>0</td>\n",
       "    </tr>\n",
       "    <tr>\n",
       "      <th>2351</th>\n",
       "      <td>-119.68</td>\n",
       "      <td>36.79</td>\n",
       "      <td>16.0</td>\n",
       "      <td>1551.0</td>\n",
       "      <td>NaN</td>\n",
       "      <td>1010.0</td>\n",
       "      <td>292.0</td>\n",
       "      <td>3.5417</td>\n",
       "      <td>71300.0</td>\n",
       "      <td>0</td>\n",
       "      <td>1</td>\n",
       "      <td>0</td>\n",
       "      <td>0</td>\n",
       "      <td>0</td>\n",
       "    </tr>\n",
       "    <tr>\n",
       "      <th>...</th>\n",
       "      <td>...</td>\n",
       "      <td>...</td>\n",
       "      <td>...</td>\n",
       "      <td>...</td>\n",
       "      <td>...</td>\n",
       "      <td>...</td>\n",
       "      <td>...</td>\n",
       "      <td>...</td>\n",
       "      <td>...</td>\n",
       "      <td>...</td>\n",
       "      <td>...</td>\n",
       "      <td>...</td>\n",
       "      <td>...</td>\n",
       "      <td>...</td>\n",
       "    </tr>\n",
       "    <tr>\n",
       "      <th>7833</th>\n",
       "      <td>-118.16</td>\n",
       "      <td>33.91</td>\n",
       "      <td>28.0</td>\n",
       "      <td>2922.0</td>\n",
       "      <td>739.0</td>\n",
       "      <td>3013.0</td>\n",
       "      <td>673.0</td>\n",
       "      <td>2.9531</td>\n",
       "      <td>127100.0</td>\n",
       "      <td>1</td>\n",
       "      <td>0</td>\n",
       "      <td>0</td>\n",
       "      <td>0</td>\n",
       "      <td>0</td>\n",
       "    </tr>\n",
       "    <tr>\n",
       "      <th>5614</th>\n",
       "      <td>-118.25</td>\n",
       "      <td>33.79</td>\n",
       "      <td>38.0</td>\n",
       "      <td>1730.0</td>\n",
       "      <td>460.0</td>\n",
       "      <td>1724.0</td>\n",
       "      <td>424.0</td>\n",
       "      <td>2.7308</td>\n",
       "      <td>150400.0</td>\n",
       "      <td>0</td>\n",
       "      <td>0</td>\n",
       "      <td>0</td>\n",
       "      <td>0</td>\n",
       "      <td>1</td>\n",
       "    </tr>\n",
       "    <tr>\n",
       "      <th>8044</th>\n",
       "      <td>-118.16</td>\n",
       "      <td>33.84</td>\n",
       "      <td>36.0</td>\n",
       "      <td>2220.0</td>\n",
       "      <td>367.0</td>\n",
       "      <td>1002.0</td>\n",
       "      <td>351.0</td>\n",
       "      <td>5.0719</td>\n",
       "      <td>219500.0</td>\n",
       "      <td>1</td>\n",
       "      <td>0</td>\n",
       "      <td>0</td>\n",
       "      <td>0</td>\n",
       "      <td>0</td>\n",
       "    </tr>\n",
       "    <tr>\n",
       "      <th>13291</th>\n",
       "      <td>-117.66</td>\n",
       "      <td>34.07</td>\n",
       "      <td>33.0</td>\n",
       "      <td>2081.0</td>\n",
       "      <td>409.0</td>\n",
       "      <td>1008.0</td>\n",
       "      <td>375.0</td>\n",
       "      <td>2.5870</td>\n",
       "      <td>138100.0</td>\n",
       "      <td>0</td>\n",
       "      <td>1</td>\n",
       "      <td>0</td>\n",
       "      <td>0</td>\n",
       "      <td>0</td>\n",
       "    </tr>\n",
       "    <tr>\n",
       "      <th>6571</th>\n",
       "      <td>-118.15</td>\n",
       "      <td>34.19</td>\n",
       "      <td>48.0</td>\n",
       "      <td>1854.0</td>\n",
       "      <td>360.0</td>\n",
       "      <td>1126.0</td>\n",
       "      <td>382.0</td>\n",
       "      <td>3.2216</td>\n",
       "      <td>161600.0</td>\n",
       "      <td>1</td>\n",
       "      <td>0</td>\n",
       "      <td>0</td>\n",
       "      <td>0</td>\n",
       "      <td>0</td>\n",
       "    </tr>\n",
       "  </tbody>\n",
       "</table>\n",
       "<p>13209 rows × 14 columns</p>\n",
       "</div>"
      ],
      "text/plain": [
       "       longitude  latitude  housing_median_age  total_rooms  total_bedrooms  \\\n",
       "4305     -118.30     34.09                32.0       2202.0           674.0   \n",
       "9246     -120.06     36.97                38.0       1542.0           364.0   \n",
       "7069     -118.02     33.95                36.0       1632.0           295.0   \n",
       "16355    -121.32     38.03                25.0       2474.0           513.0   \n",
       "2351     -119.68     36.79                16.0       1551.0             NaN   \n",
       "...          ...       ...                 ...          ...             ...   \n",
       "7833     -118.16     33.91                28.0       2922.0           739.0   \n",
       "5614     -118.25     33.79                38.0       1730.0           460.0   \n",
       "8044     -118.16     33.84                36.0       2220.0           367.0   \n",
       "13291    -117.66     34.07                33.0       2081.0           409.0   \n",
       "6571     -118.15     34.19                48.0       1854.0           360.0   \n",
       "\n",
       "       population  households  median_income  median_house_value  \\\n",
       "4305       2178.0       635.0         2.0307            226700.0   \n",
       "9246       1220.0       334.0         1.6250             52800.0   \n",
       "7069        797.0       283.0         4.2292            179500.0   \n",
       "16355      1947.0       524.0         2.5742             98400.0   \n",
       "2351       1010.0       292.0         3.5417             71300.0   \n",
       "...           ...         ...            ...                 ...   \n",
       "7833       3013.0       673.0         2.9531            127100.0   \n",
       "5614       1724.0       424.0         2.7308            150400.0   \n",
       "8044       1002.0       351.0         5.0719            219500.0   \n",
       "13291      1008.0       375.0         2.5870            138100.0   \n",
       "6571       1126.0       382.0         3.2216            161600.0   \n",
       "\n",
       "       ocean_proximity_<1H OCEAN  ocean_proximity_INLAND  \\\n",
       "4305                           1                       0   \n",
       "9246                           0                       1   \n",
       "7069                           1                       0   \n",
       "16355                          0                       1   \n",
       "2351                           0                       1   \n",
       "...                          ...                     ...   \n",
       "7833                           1                       0   \n",
       "5614                           0                       0   \n",
       "8044                           1                       0   \n",
       "13291                          0                       1   \n",
       "6571                           1                       0   \n",
       "\n",
       "       ocean_proximity_ISLAND  ocean_proximity_NEAR BAY  \\\n",
       "4305                        0                         0   \n",
       "9246                        0                         0   \n",
       "7069                        0                         0   \n",
       "16355                       0                         0   \n",
       "2351                        0                         0   \n",
       "...                       ...                       ...   \n",
       "7833                        0                         0   \n",
       "5614                        0                         0   \n",
       "8044                        0                         0   \n",
       "13291                       0                         0   \n",
       "6571                        0                         0   \n",
       "\n",
       "       ocean_proximity_NEAR OCEAN  \n",
       "4305                            0  \n",
       "9246                            0  \n",
       "7069                            0  \n",
       "16355                           0  \n",
       "2351                            0  \n",
       "...                           ...  \n",
       "7833                            0  \n",
       "5614                            1  \n",
       "8044                            0  \n",
       "13291                           0  \n",
       "6571                            0  \n",
       "\n",
       "[13209 rows x 14 columns]"
      ]
     },
     "execution_count": 86,
     "metadata": {},
     "output_type": "execute_result"
    }
   ],
   "source": [
    "df_dummy = pd.get_dummies(train, columns=[\"ocean_proximity\"])\n",
    "df_dummy"
   ]
  },
  {
   "cell_type": "markdown",
   "id": "4af5d879-34fd-438f-968e-0719170ac04c",
   "metadata": {},
   "source": [
    "##### 3) Замените признаки total_rooms и total_bedrooms на average_rooms и average_bedrooms (поделив на households)."
   ]
  },
  {
   "cell_type": "code",
   "execution_count": 87,
   "id": "592b359d-cf15-4f4c-acfa-f0845aead12c",
   "metadata": {},
   "outputs": [
    {
     "data": {
      "text/html": [
       "<div>\n",
       "<style scoped>\n",
       "    .dataframe tbody tr th:only-of-type {\n",
       "        vertical-align: middle;\n",
       "    }\n",
       "\n",
       "    .dataframe tbody tr th {\n",
       "        vertical-align: top;\n",
       "    }\n",
       "\n",
       "    .dataframe thead th {\n",
       "        text-align: right;\n",
       "    }\n",
       "</style>\n",
       "<table border=\"1\" class=\"dataframe\">\n",
       "  <thead>\n",
       "    <tr style=\"text-align: right;\">\n",
       "      <th></th>\n",
       "      <th>longitude</th>\n",
       "      <th>latitude</th>\n",
       "      <th>housing_median_age</th>\n",
       "      <th>total_rooms</th>\n",
       "      <th>total_bedrooms</th>\n",
       "      <th>population</th>\n",
       "      <th>households</th>\n",
       "      <th>median_income</th>\n",
       "      <th>median_house_value</th>\n",
       "      <th>ocean_proximity</th>\n",
       "    </tr>\n",
       "  </thead>\n",
       "  <tbody>\n",
       "    <tr>\n",
       "      <th>0</th>\n",
       "      <td>-122.23</td>\n",
       "      <td>37.88</td>\n",
       "      <td>41.0</td>\n",
       "      <td>6.984127</td>\n",
       "      <td>1.023810</td>\n",
       "      <td>322.0</td>\n",
       "      <td>126.0</td>\n",
       "      <td>8.3252</td>\n",
       "      <td>452600.0</td>\n",
       "      <td>NEAR BAY</td>\n",
       "    </tr>\n",
       "    <tr>\n",
       "      <th>1</th>\n",
       "      <td>-122.22</td>\n",
       "      <td>37.86</td>\n",
       "      <td>21.0</td>\n",
       "      <td>6.238137</td>\n",
       "      <td>0.971880</td>\n",
       "      <td>2401.0</td>\n",
       "      <td>1138.0</td>\n",
       "      <td>8.3014</td>\n",
       "      <td>358500.0</td>\n",
       "      <td>NEAR BAY</td>\n",
       "    </tr>\n",
       "    <tr>\n",
       "      <th>2</th>\n",
       "      <td>-122.24</td>\n",
       "      <td>37.85</td>\n",
       "      <td>52.0</td>\n",
       "      <td>8.288136</td>\n",
       "      <td>1.073446</td>\n",
       "      <td>496.0</td>\n",
       "      <td>177.0</td>\n",
       "      <td>7.2574</td>\n",
       "      <td>352100.0</td>\n",
       "      <td>NEAR BAY</td>\n",
       "    </tr>\n",
       "    <tr>\n",
       "      <th>3</th>\n",
       "      <td>-122.25</td>\n",
       "      <td>37.85</td>\n",
       "      <td>52.0</td>\n",
       "      <td>5.817352</td>\n",
       "      <td>1.073059</td>\n",
       "      <td>558.0</td>\n",
       "      <td>219.0</td>\n",
       "      <td>5.6431</td>\n",
       "      <td>341300.0</td>\n",
       "      <td>NEAR BAY</td>\n",
       "    </tr>\n",
       "    <tr>\n",
       "      <th>4</th>\n",
       "      <td>-122.25</td>\n",
       "      <td>37.85</td>\n",
       "      <td>52.0</td>\n",
       "      <td>6.281853</td>\n",
       "      <td>1.081081</td>\n",
       "      <td>565.0</td>\n",
       "      <td>259.0</td>\n",
       "      <td>3.8462</td>\n",
       "      <td>342200.0</td>\n",
       "      <td>NEAR BAY</td>\n",
       "    </tr>\n",
       "  </tbody>\n",
       "</table>\n",
       "</div>"
      ],
      "text/plain": [
       "   longitude  latitude  housing_median_age  total_rooms  total_bedrooms  \\\n",
       "0    -122.23     37.88                41.0     6.984127        1.023810   \n",
       "1    -122.22     37.86                21.0     6.238137        0.971880   \n",
       "2    -122.24     37.85                52.0     8.288136        1.073446   \n",
       "3    -122.25     37.85                52.0     5.817352        1.073059   \n",
       "4    -122.25     37.85                52.0     6.281853        1.081081   \n",
       "\n",
       "   population  households  median_income  median_house_value ocean_proximity  \n",
       "0       322.0       126.0         8.3252            452600.0        NEAR BAY  \n",
       "1      2401.0      1138.0         8.3014            358500.0        NEAR BAY  \n",
       "2       496.0       177.0         7.2574            352100.0        NEAR BAY  \n",
       "3       558.0       219.0         5.6431            341300.0        NEAR BAY  \n",
       "4       565.0       259.0         3.8462            342200.0        NEAR BAY  "
      ]
     },
     "execution_count": 87,
     "metadata": {},
     "output_type": "execute_result"
    }
   ],
   "source": [
    "df[\"total_rooms\"] /= df[\"households\"]\n",
    "df[\"total_bedrooms\"] /= df[\"households\"]\n",
    "\n",
    "df.head()"
   ]
  },
  {
   "cell_type": "markdown",
   "id": "cdccd698-3f5c-4429-afb4-c846397187b9",
   "metadata": {},
   "source": [
    "##### 4) В признаке average_bedrooms (total_bedrooms) есть отсутствующие значения. Определите число экземпляров данных, для которых этот признак отсутствует. Придумайте и обоснуйте стратегию заполнения пропусков в этой задаче. Заполните пропуски."
   ]
  },
  {
   "cell_type": "code",
   "execution_count": 88,
   "id": "d94b34c3-6f3e-49ce-86bf-5c5ad9f460db",
   "metadata": {},
   "outputs": [
    {
     "data": {
      "text/plain": [
       "longitude               0\n",
       "latitude                0\n",
       "housing_median_age      0\n",
       "total_rooms             0\n",
       "total_bedrooms        207\n",
       "population              0\n",
       "households              0\n",
       "median_income           0\n",
       "median_house_value      0\n",
       "ocean_proximity         0\n",
       "dtype: int64"
      ]
     },
     "execution_count": 88,
     "metadata": {},
     "output_type": "execute_result"
    }
   ],
   "source": [
    "df.isna().sum()"
   ]
  },
  {
   "cell_type": "code",
   "execution_count": 89,
   "id": "616fdc62-b30a-45f7-9a07-d611e45857b0",
   "metadata": {},
   "outputs": [
    {
     "data": {
      "text/plain": [
       "longitude             0\n",
       "latitude              0\n",
       "housing_median_age    0\n",
       "total_rooms           0\n",
       "total_bedrooms        0\n",
       "population            0\n",
       "households            0\n",
       "median_income         0\n",
       "median_house_value    0\n",
       "ocean_proximity       0\n",
       "dtype: int64"
      ]
     },
     "execution_count": 89,
     "metadata": {},
     "output_type": "execute_result"
    }
   ],
   "source": [
    "df[\"total_bedrooms\"].fillna(value=df[\"total_bedrooms\"].mean, inplace=True)\n",
    "df.isna().sum()"
   ]
  },
  {
   "cell_type": "markdown",
   "id": "2dbaa667-bbce-4648-aa3e-8ca961624044",
   "metadata": {},
   "source": [
    "##### 5) Нормализуйте признаки longitude и latitude (сделайте так, чтобы каждый признак имел среднее значение 0 и дисперсию 1 внутри обучающей выборки)"
   ]
  },
  {
   "cell_type": "code",
   "execution_count": 90,
   "id": "36089e47-8ccf-4792-bb08-e1b8e7426c41",
   "metadata": {},
   "outputs": [],
   "source": [
    "from sklearn.preprocessing import StandardScaler"
   ]
  },
  {
   "cell_type": "code",
   "execution_count": 104,
   "id": "5e6ec7fe-e4ec-48fe-993a-c1945ad5b39e",
   "metadata": {},
   "outputs": [
    {
     "data": {
      "text/plain": [
       "(array([[-122.23],\n",
       "        [-122.22],\n",
       "        [-122.24],\n",
       "        ...,\n",
       "        [-121.22],\n",
       "        [-121.32],\n",
       "        [-121.24]]),\n",
       " array([[37.88],\n",
       "        [37.86],\n",
       "        [37.85],\n",
       "        ...,\n",
       "        [39.43],\n",
       "        [39.43],\n",
       "        [39.37]]))"
      ]
     },
     "execution_count": 104,
     "metadata": {},
     "output_type": "execute_result"
    }
   ],
   "source": [
    "scaller = StandardScaler()\n",
    "\n",
    "longitude_data = df[\"longitude\"].to_numpy().reshape(-1, 1)\n",
    "latitude_data = df[\"latitude\"].to_numpy().reshape(-1, 1)\n",
    "\n",
    "longitude_data, latitude_data"
   ]
  },
  {
   "cell_type": "code",
   "execution_count": 105,
   "id": "221e59e0-b21f-4397-b861-a165a41b9846",
   "metadata": {},
   "outputs": [
    {
     "ename": "ValueError",
     "evalue": "Data must be 1-dimensional",
     "output_type": "error",
     "traceback": [
      "\u001b[1;31m---------------------------------------------------------------------------\u001b[0m",
      "\u001b[1;31mValueError\u001b[0m                                Traceback (most recent call last)",
      "\u001b[1;32m<ipython-input-105-5dc9044938ed>\u001b[0m in \u001b[0;36m<module>\u001b[1;34m\u001b[0m\n\u001b[1;32m----> 1\u001b[1;33m \u001b[0mdf\u001b[0m\u001b[1;33m[\u001b[0m\u001b[1;34m\"longitude\"\u001b[0m\u001b[1;33m]\u001b[0m \u001b[1;33m=\u001b[0m \u001b[0mpd\u001b[0m\u001b[1;33m.\u001b[0m\u001b[0mSeries\u001b[0m\u001b[1;33m(\u001b[0m\u001b[0mscaller\u001b[0m\u001b[1;33m.\u001b[0m\u001b[0mfit_transform\u001b[0m\u001b[1;33m(\u001b[0m\u001b[0mlongitude_data\u001b[0m\u001b[1;33m)\u001b[0m\u001b[1;33m)\u001b[0m\u001b[1;33m\u001b[0m\u001b[1;33m\u001b[0m\u001b[0m\n\u001b[0m\u001b[0;32m      2\u001b[0m \u001b[0mdf\u001b[0m\u001b[1;33m[\u001b[0m\u001b[1;34m\"latitude\"\u001b[0m\u001b[1;33m]\u001b[0m \u001b[1;33m=\u001b[0m \u001b[0mpd\u001b[0m\u001b[1;33m.\u001b[0m\u001b[0mSeries\u001b[0m\u001b[1;33m(\u001b[0m\u001b[0mscaller\u001b[0m\u001b[1;33m.\u001b[0m\u001b[0mfit_transform\u001b[0m\u001b[1;33m(\u001b[0m\u001b[0mlatitude_data\u001b[0m\u001b[1;33m)\u001b[0m\u001b[1;33m)\u001b[0m\u001b[1;33m\u001b[0m\u001b[1;33m\u001b[0m\u001b[0m\n\u001b[0;32m      3\u001b[0m \u001b[1;33m\u001b[0m\u001b[0m\n\u001b[0;32m      4\u001b[0m \u001b[0mdf\u001b[0m\u001b[1;33m.\u001b[0m\u001b[0mhead\u001b[0m\u001b[1;33m(\u001b[0m\u001b[1;33m)\u001b[0m\u001b[1;33m\u001b[0m\u001b[1;33m\u001b[0m\u001b[0m\n",
      "\u001b[1;32m~\\anaconda3\\lib\\site-packages\\pandas\\core\\series.py\u001b[0m in \u001b[0;36m__init__\u001b[1;34m(self, data, index, dtype, name, copy, fastpath)\u001b[0m\n\u001b[0;32m    362\u001b[0m                     \u001b[0mdata\u001b[0m \u001b[1;33m=\u001b[0m \u001b[0mdata\u001b[0m\u001b[1;33m.\u001b[0m\u001b[0mcopy\u001b[0m\u001b[1;33m(\u001b[0m\u001b[1;33m)\u001b[0m\u001b[1;33m\u001b[0m\u001b[1;33m\u001b[0m\u001b[0m\n\u001b[0;32m    363\u001b[0m             \u001b[1;32melse\u001b[0m\u001b[1;33m:\u001b[0m\u001b[1;33m\u001b[0m\u001b[1;33m\u001b[0m\u001b[0m\n\u001b[1;32m--> 364\u001b[1;33m                 \u001b[0mdata\u001b[0m \u001b[1;33m=\u001b[0m \u001b[0msanitize_array\u001b[0m\u001b[1;33m(\u001b[0m\u001b[0mdata\u001b[0m\u001b[1;33m,\u001b[0m \u001b[0mindex\u001b[0m\u001b[1;33m,\u001b[0m \u001b[0mdtype\u001b[0m\u001b[1;33m,\u001b[0m \u001b[0mcopy\u001b[0m\u001b[1;33m,\u001b[0m \u001b[0mraise_cast_failure\u001b[0m\u001b[1;33m=\u001b[0m\u001b[1;32mTrue\u001b[0m\u001b[1;33m)\u001b[0m\u001b[1;33m\u001b[0m\u001b[1;33m\u001b[0m\u001b[0m\n\u001b[0m\u001b[0;32m    365\u001b[0m \u001b[1;33m\u001b[0m\u001b[0m\n\u001b[0;32m    366\u001b[0m                 \u001b[0mdata\u001b[0m \u001b[1;33m=\u001b[0m \u001b[0mSingleBlockManager\u001b[0m\u001b[1;33m.\u001b[0m\u001b[0mfrom_array\u001b[0m\u001b[1;33m(\u001b[0m\u001b[0mdata\u001b[0m\u001b[1;33m,\u001b[0m \u001b[0mindex\u001b[0m\u001b[1;33m)\u001b[0m\u001b[1;33m\u001b[0m\u001b[1;33m\u001b[0m\u001b[0m\n",
      "\u001b[1;32m~\\anaconda3\\lib\\site-packages\\pandas\\core\\construction.py\u001b[0m in \u001b[0;36msanitize_array\u001b[1;34m(data, index, dtype, copy, raise_cast_failure)\u001b[0m\n\u001b[0;32m    527\u001b[0m     \u001b[1;32melif\u001b[0m \u001b[0msubarr\u001b[0m\u001b[1;33m.\u001b[0m\u001b[0mndim\u001b[0m \u001b[1;33m>\u001b[0m \u001b[1;36m1\u001b[0m\u001b[1;33m:\u001b[0m\u001b[1;33m\u001b[0m\u001b[1;33m\u001b[0m\u001b[0m\n\u001b[0;32m    528\u001b[0m         \u001b[1;32mif\u001b[0m \u001b[0misinstance\u001b[0m\u001b[1;33m(\u001b[0m\u001b[0mdata\u001b[0m\u001b[1;33m,\u001b[0m \u001b[0mnp\u001b[0m\u001b[1;33m.\u001b[0m\u001b[0mndarray\u001b[0m\u001b[1;33m)\u001b[0m\u001b[1;33m:\u001b[0m\u001b[1;33m\u001b[0m\u001b[1;33m\u001b[0m\u001b[0m\n\u001b[1;32m--> 529\u001b[1;33m             \u001b[1;32mraise\u001b[0m \u001b[0mValueError\u001b[0m\u001b[1;33m(\u001b[0m\u001b[1;34m\"Data must be 1-dimensional\"\u001b[0m\u001b[1;33m)\u001b[0m\u001b[1;33m\u001b[0m\u001b[1;33m\u001b[0m\u001b[0m\n\u001b[0m\u001b[0;32m    530\u001b[0m         \u001b[1;32melse\u001b[0m\u001b[1;33m:\u001b[0m\u001b[1;33m\u001b[0m\u001b[1;33m\u001b[0m\u001b[0m\n\u001b[0;32m    531\u001b[0m             \u001b[0msubarr\u001b[0m \u001b[1;33m=\u001b[0m \u001b[0mcom\u001b[0m\u001b[1;33m.\u001b[0m\u001b[0masarray_tuplesafe\u001b[0m\u001b[1;33m(\u001b[0m\u001b[0mdata\u001b[0m\u001b[1;33m,\u001b[0m \u001b[0mdtype\u001b[0m\u001b[1;33m=\u001b[0m\u001b[0mdtype\u001b[0m\u001b[1;33m)\u001b[0m\u001b[1;33m\u001b[0m\u001b[1;33m\u001b[0m\u001b[0m\n",
      "\u001b[1;31mValueError\u001b[0m: Data must be 1-dimensional"
     ]
    }
   ],
   "source": [
    "df[\"longitude\"] = pd.Series(scaller.fit_transform(longitude_data))\n",
    "df[\"latitude\"] = pd.Series(scaller.fit_transform(latitude_data))"
   ]
  },
  {
   "cell_type": "markdown",
   "id": "dec992b5-16ed-48e6-a2ac-b0c02fdfc6c1",
   "metadata": {},
   "source": [
    "### 3. Выполнение лабораторной работы №2. Часть 2"
   ]
  },
  {
   "cell_type": "markdown",
   "id": "f7607f6c-b963-4863-b26b-b68792dc80b4",
   "metadata": {},
   "source": [
    "#### Задание 1."
   ]
  },
  {
   "cell_type": "code",
   "execution_count": 25,
   "id": "fd454029-7452-4d50-a00d-b9d2750373d3",
   "metadata": {},
   "outputs": [
    {
     "data": {
      "text/html": [
       "<div>\n",
       "<style scoped>\n",
       "    .dataframe tbody tr th:only-of-type {\n",
       "        vertical-align: middle;\n",
       "    }\n",
       "\n",
       "    .dataframe tbody tr th {\n",
       "        vertical-align: top;\n",
       "    }\n",
       "\n",
       "    .dataframe thead th {\n",
       "        text-align: right;\n",
       "    }\n",
       "</style>\n",
       "<table border=\"1\" class=\"dataframe\">\n",
       "  <thead>\n",
       "    <tr style=\"text-align: right;\">\n",
       "      <th></th>\n",
       "      <th>Unnamed: 0</th>\n",
       "      <th>sex</th>\n",
       "      <th>weight</th>\n",
       "      <th>height</th>\n",
       "      <th>repwt</th>\n",
       "      <th>repht</th>\n",
       "    </tr>\n",
       "  </thead>\n",
       "  <tbody>\n",
       "    <tr>\n",
       "      <th>0</th>\n",
       "      <td>1</td>\n",
       "      <td>M</td>\n",
       "      <td>77</td>\n",
       "      <td>182</td>\n",
       "      <td>77.0</td>\n",
       "      <td>180.0</td>\n",
       "    </tr>\n",
       "    <tr>\n",
       "      <th>1</th>\n",
       "      <td>2</td>\n",
       "      <td>F</td>\n",
       "      <td>58</td>\n",
       "      <td>161</td>\n",
       "      <td>51.0</td>\n",
       "      <td>159.0</td>\n",
       "    </tr>\n",
       "    <tr>\n",
       "      <th>2</th>\n",
       "      <td>3</td>\n",
       "      <td>F</td>\n",
       "      <td>53</td>\n",
       "      <td>161</td>\n",
       "      <td>54.0</td>\n",
       "      <td>158.0</td>\n",
       "    </tr>\n",
       "    <tr>\n",
       "      <th>3</th>\n",
       "      <td>4</td>\n",
       "      <td>M</td>\n",
       "      <td>68</td>\n",
       "      <td>177</td>\n",
       "      <td>70.0</td>\n",
       "      <td>175.0</td>\n",
       "    </tr>\n",
       "    <tr>\n",
       "      <th>4</th>\n",
       "      <td>5</td>\n",
       "      <td>F</td>\n",
       "      <td>59</td>\n",
       "      <td>157</td>\n",
       "      <td>59.0</td>\n",
       "      <td>155.0</td>\n",
       "    </tr>\n",
       "  </tbody>\n",
       "</table>\n",
       "</div>"
      ],
      "text/plain": [
       "   Unnamed: 0 sex  weight  height  repwt  repht\n",
       "0           1   M      77     182   77.0  180.0\n",
       "1           2   F      58     161   51.0  159.0\n",
       "2           3   F      53     161   54.0  158.0\n",
       "3           4   M      68     177   70.0  175.0\n",
       "4           5   F      59     157   59.0  155.0"
      ]
     },
     "execution_count": 25,
     "metadata": {},
     "output_type": "execute_result"
    }
   ],
   "source": [
    "df = pd.read_csv(\"Davis.csv\")\n",
    "df.head()"
   ]
  },
  {
   "cell_type": "code",
   "execution_count": 26,
   "id": "1f332685-54e9-4438-96c5-54491fd3bb31",
   "metadata": {},
   "outputs": [
    {
     "data": {
      "text/html": [
       "<div>\n",
       "<style scoped>\n",
       "    .dataframe tbody tr th:only-of-type {\n",
       "        vertical-align: middle;\n",
       "    }\n",
       "\n",
       "    .dataframe tbody tr th {\n",
       "        vertical-align: top;\n",
       "    }\n",
       "\n",
       "    .dataframe thead th {\n",
       "        text-align: right;\n",
       "    }\n",
       "</style>\n",
       "<table border=\"1\" class=\"dataframe\">\n",
       "  <thead>\n",
       "    <tr style=\"text-align: right;\">\n",
       "      <th></th>\n",
       "      <th>sex</th>\n",
       "      <th>weight</th>\n",
       "      <th>height</th>\n",
       "      <th>repwt</th>\n",
       "      <th>repht</th>\n",
       "    </tr>\n",
       "  </thead>\n",
       "  <tbody>\n",
       "    <tr>\n",
       "      <th>0</th>\n",
       "      <td>M</td>\n",
       "      <td>77</td>\n",
       "      <td>182</td>\n",
       "      <td>77.0</td>\n",
       "      <td>180.0</td>\n",
       "    </tr>\n",
       "    <tr>\n",
       "      <th>1</th>\n",
       "      <td>F</td>\n",
       "      <td>58</td>\n",
       "      <td>161</td>\n",
       "      <td>51.0</td>\n",
       "      <td>159.0</td>\n",
       "    </tr>\n",
       "    <tr>\n",
       "      <th>2</th>\n",
       "      <td>F</td>\n",
       "      <td>53</td>\n",
       "      <td>161</td>\n",
       "      <td>54.0</td>\n",
       "      <td>158.0</td>\n",
       "    </tr>\n",
       "    <tr>\n",
       "      <th>3</th>\n",
       "      <td>M</td>\n",
       "      <td>68</td>\n",
       "      <td>177</td>\n",
       "      <td>70.0</td>\n",
       "      <td>175.0</td>\n",
       "    </tr>\n",
       "    <tr>\n",
       "      <th>4</th>\n",
       "      <td>F</td>\n",
       "      <td>59</td>\n",
       "      <td>157</td>\n",
       "      <td>59.0</td>\n",
       "      <td>155.0</td>\n",
       "    </tr>\n",
       "  </tbody>\n",
       "</table>\n",
       "</div>"
      ],
      "text/plain": [
       "  sex  weight  height  repwt  repht\n",
       "0   M      77     182   77.0  180.0\n",
       "1   F      58     161   51.0  159.0\n",
       "2   F      53     161   54.0  158.0\n",
       "3   M      68     177   70.0  175.0\n",
       "4   F      59     157   59.0  155.0"
      ]
     },
     "execution_count": 26,
     "metadata": {},
     "output_type": "execute_result"
    }
   ],
   "source": [
    "df.drop(\"Unnamed: 0\", axis=1, inplace=True)\n",
    "df.head()"
   ]
  },
  {
   "cell_type": "markdown",
   "id": "30b41864-91ed-4ee9-852a-132177c65745",
   "metadata": {},
   "source": [
    "##### 1) Удалите некорректные данные"
   ]
  },
  {
   "cell_type": "code",
   "execution_count": 27,
   "id": "b1ee63ed-8615-466d-b204-06a0d0cc5733",
   "metadata": {},
   "outputs": [
    {
     "data": {
      "text/plain": [
       "sex       0.0\n",
       "weight    0.0\n",
       "height    0.0\n",
       "repwt     8.5\n",
       "repht     8.5\n",
       "dtype: float64"
      ]
     },
     "execution_count": 27,
     "metadata": {},
     "output_type": "execute_result"
    }
   ],
   "source": [
    "df.isna().sum() / len(df) * 100"
   ]
  },
  {
   "cell_type": "code",
   "execution_count": 28,
   "id": "fd5d909e-69e9-429a-8833-b4ce1581d14d",
   "metadata": {},
   "outputs": [
    {
     "data": {
      "text/plain": [
       "sex       0.0\n",
       "weight    0.0\n",
       "height    0.0\n",
       "repwt     0.0\n",
       "repht     0.0\n",
       "dtype: float64"
      ]
     },
     "execution_count": 28,
     "metadata": {},
     "output_type": "execute_result"
    }
   ],
   "source": [
    "df.dropna(inplace=True)\n",
    "df.isna().sum() / len(df) * 100"
   ]
  },
  {
   "cell_type": "code",
   "execution_count": 11,
   "id": "6f60e98a-e5ff-4d2e-9ce9-fb45c6026e3c",
   "metadata": {},
   "outputs": [
    {
     "name": "stdout",
     "output_type": "stream",
     "text": [
      "<class 'pandas.core.frame.DataFrame'>\n",
      "Int64Index: 181 entries, 0 to 199\n",
      "Data columns (total 5 columns):\n",
      " #   Column  Non-Null Count  Dtype  \n",
      "---  ------  --------------  -----  \n",
      " 0   sex     181 non-null    object \n",
      " 1   weight  181 non-null    int64  \n",
      " 2   height  181 non-null    int64  \n",
      " 3   repwt   181 non-null    float64\n",
      " 4   repht   181 non-null    float64\n",
      "dtypes: float64(2), int64(2), object(1)\n",
      "memory usage: 8.5+ KB\n"
     ]
    }
   ],
   "source": [
    "df.info()"
   ]
  },
  {
   "cell_type": "markdown",
   "id": "a7c725f5-4d2d-4192-8fcd-871e3e41e5bf",
   "metadata": {},
   "source": [
    "##### 2) Выделите тестовую выборку из 50 экземпляров"
   ]
  },
  {
   "cell_type": "code",
   "execution_count": 12,
   "id": "310cc854-283c-4c09-bfbc-e31f614be8af",
   "metadata": {},
   "outputs": [],
   "source": [
    "from sklearn.model_selection import train_test_split"
   ]
  },
  {
   "cell_type": "code",
   "execution_count": 29,
   "id": "f3969f84-29e1-4abb-ac13-7fac9713df61",
   "metadata": {},
   "outputs": [
    {
     "data": {
      "text/plain": [
       "((131, 5), (50, 5))"
      ]
     },
     "execution_count": 29,
     "metadata": {},
     "output_type": "execute_result"
    }
   ],
   "source": [
    "train, test = train_test_split(df, test_size=50)\n",
    "train.shape, test.shape"
   ]
  },
  {
   "cell_type": "markdown",
   "id": "b0ae6c23-c40b-4327-bf99-b4f726e77602",
   "metadata": {},
   "source": [
    "##### 3) На тренировочных данных постройте: Гистограмму height, Гистограмму weight, Эти же гистограммы для разных полов"
   ]
  },
  {
   "cell_type": "code",
   "execution_count": 16,
   "id": "2d51b5ac-eb1b-4dcf-aa0c-5a400ed0d574",
   "metadata": {},
   "outputs": [
    {
     "data": {
      "image/png": "[encoded data removed]",
      "text/plain": [
       "<Figure size 576x396 with 1 Axes>"
      ]
     },
     "metadata": {},
     "output_type": "display_data"
    }
   ],
   "source": [
    "sns.histplot(df[\"height\"], kde = True);"
   ]
  },
  {
   "cell_type": "code",
   "execution_count": 18,
   "id": "9e1eb56b-8a35-4ba8-b1a9-11a9b19426ed",
   "metadata": {},
   "outputs": [
    {
     "data": {
      "image/png": "[encoded data removed]",
      "text/plain": [
       "<Figure size 576x396 with 1 Axes>"
      ]
     },
     "metadata": {},
     "output_type": "display_data"
    }
   ],
   "source": [
    "sns.histplot(df[\"weight\"], kde = True, color = \"orange\");"
   ]
  },
  {
   "cell_type": "code",
   "execution_count": 6,
   "id": "3b6baf83-f3da-4693-abaf-7c6e97a163f3",
   "metadata": {},
   "outputs": [
    {
     "data": {
      "text/plain": [
       "(  sex  weight  height  repwt  repht\n",
       " 0   M      77     182   77.0  180.0\n",
       " 3   M      68     177   70.0  175.0\n",
       " 5   M      76     170   76.0  165.0\n",
       " 6   M      76     167   77.0  165.0\n",
       " 7   M      69     186   73.0  180.0,\n",
       "    sex  weight  height  repwt  repht\n",
       " 1    F      58     161   51.0  159.0\n",
       " 2    F      53     161   54.0  158.0\n",
       " 4    F      59     157   59.0  155.0\n",
       " 11   F     166      57   56.0  163.0\n",
       " 12   F      51     161   52.0  158.0)"
      ]
     },
     "execution_count": 6,
     "metadata": {},
     "output_type": "execute_result"
    }
   ],
   "source": [
    "df_men = df[df[\"sex\"] == 'M']\n",
    "df_women = df[df[\"sex\"] == 'F']\n",
    "\n",
    "df_men.head(), df_women.head()"
   ]
  },
  {
   "cell_type": "code",
   "execution_count": 9,
   "id": "3bb95dda-35fa-43c1-8d32-e74e9f80d97d",
   "metadata": {},
   "outputs": [
    {
     "data": {
      "image/png": "[encoded data removed]",
      "text/plain": [
       "<Figure size 576x396 with 1 Axes>"
      ]
     },
     "metadata": {},
     "output_type": "display_data"
    }
   ],
   "source": [
    "sns.histplot(df_men['height'], kde = True, color = \"red\");"
   ]
  },
  {
   "cell_type": "code",
   "execution_count": 11,
   "id": "5000a924-7663-4f25-b84e-b2d3c5354eec",
   "metadata": {},
   "outputs": [
    {
     "data": {
      "image/png": "[encoded data removed]",
      "text/plain": [
       "<Figure size 576x396 with 1 Axes>"
      ]
     },
     "metadata": {},
     "output_type": "display_data"
    }
   ],
   "source": [
    "sns.histplot(df_men[\"weight\"], kde = True, color = \"yellow\");"
   ]
  },
  {
   "cell_type": "code",
   "execution_count": 13,
   "id": "5e54b42c-8d9e-4072-bcc0-3dbead475898",
   "metadata": {},
   "outputs": [
    {
     "data": {
      "image/png": "[encoded data removed]",
      "text/plain": [
       "<Figure size 576x396 with 1 Axes>"
      ]
     },
     "metadata": {},
     "output_type": "display_data"
    }
   ],
   "source": [
    "sns.histplot(df_women[\"height\"], kde = True, color = \"green\");"
   ]
  },
  {
   "cell_type": "code",
   "execution_count": 14,
   "id": "cba26386-bd36-4b6d-80d0-1546ffc1b532",
   "metadata": {},
   "outputs": [
    {
     "data": {
      "image/png": "[encoded data removed]",
      "text/plain": [
       "<Figure size 576x396 with 1 Axes>"
      ]
     },
     "metadata": {},
     "output_type": "display_data"
    }
   ],
   "source": [
    "sns.histplot(df_women[\"weight\"], kde = True, color = \"blue\");"
   ]
  },
  {
   "cell_type": "markdown",
   "id": "c4f7afff-a77d-4d9a-8dc9-8ec1d79e7fb4",
   "metadata": {},
   "source": [
    "##### 4) На тренировочных данных обучите классификатор пола (sex), используя только признаки height и weight. Замерьте производительность на тренировочной и тестовой выборке (через Accuracy). Рекомендуемые модели:  логистическая регрессия, quadratic discriminant analysis."
   ]
  },
  {
   "cell_type": "code",
   "execution_count": 45,
   "id": "7f5a6a7f-1dbf-4b58-8fb7-fc0cb8126247",
   "metadata": {},
   "outputs": [],
   "source": [
    "from sklearn.linear_model import LogisticRegression\n",
    "from sklearn.metrics import accuracy_score"
   ]
  },
  {
   "cell_type": "code",
   "execution_count": 37,
   "id": "a7a96078-1cee-44f4-9fd3-f84e35b50c43",
   "metadata": {},
   "outputs": [
    {
     "name": "stderr",
     "output_type": "stream",
     "text": [
      "C:\\Users\\ASUS\\anaconda3\\lib\\site-packages\\pandas\\core\\frame.py:4524: SettingWithCopyWarning: \n",
      "A value is trying to be set on a copy of a slice from a DataFrame\n",
      "\n",
      "See the caveats in the documentation: https://pandas.pydata.org/pandas-docs/stable/user_guide/indexing.html#returning-a-view-versus-a-copy\n",
      "  return super().replace(\n"
     ]
    },
    {
     "data": {
      "text/plain": [
       "(     sex  weight  height  repwt  repht\n",
       " 5      0      76     170   76.0  165.0\n",
       " 94     0      88     189   87.0  185.0\n",
       " 199    0      79     177   81.0  178.0\n",
       " 52     0      74     169   73.0  170.0\n",
       " 85     0      59     182   61.0  183.0,\n",
       "      sex  weight  height  repwt  repht\n",
       " 139    0      85     191   83.0  188.0\n",
       " 10     0      70     175   75.0  174.0\n",
       " 102    1      47     163   47.0  160.0\n",
       " 90     0      70     173   68.0  170.0\n",
       " 23     0      66     173   70.0  170.0)"
      ]
     },
     "execution_count": 37,
     "metadata": {},
     "output_type": "execute_result"
    }
   ],
   "source": [
    "train.replace({'M': 0, 'F': 1}, inplace=True)\n",
    "test.replace({'M': 0, 'F': 1}, inplace=True)\n",
    "\n",
    "train.head(), test.head()"
   ]
  },
  {
   "cell_type": "code",
   "execution_count": 42,
   "id": "826d3038-c5f0-4d73-b742-a874ca1452a2",
   "metadata": {},
   "outputs": [],
   "source": [
    "y_train = train[\"sex\"].to_numpy()\n",
    "X_train = train.loc[:, \"sex\":\"repht\"].to_numpy()"
   ]
  },
  {
   "cell_type": "code",
   "execution_count": 43,
   "id": "f897c960-f3be-4acc-8409-f287052d427d",
   "metadata": {},
   "outputs": [
    {
     "data": {
      "text/plain": [
       "1.0"
      ]
     },
     "execution_count": 43,
     "metadata": {},
     "output_type": "execute_result"
    }
   ],
   "source": [
    "clf = LogisticRegression().fit(X_train, y_train)\n",
    "clf.score(X, y) # Обучающая выборка"
   ]
  },
  {
   "cell_type": "code",
   "execution_count": 44,
   "id": "65df5d32-fd51-4e7a-920f-c92efbf859ea",
   "metadata": {},
   "outputs": [],
   "source": [
    "y_test = test[\"sex\"].to_numpy()\n",
    "X_test = test.loc[:, \"sex\":\"repht\"].to_numpy()\n",
    "predictions = clf.predict(X_test) # Тестовая выборка"
   ]
  },
  {
   "cell_type": "code",
   "execution_count": 46,
   "id": "f2887b6c-924f-4c5a-898b-d52fe68c0bde",
   "metadata": {},
   "outputs": [
    {
     "data": {
      "text/plain": [
       "0.98"
      ]
     },
     "execution_count": 46,
     "metadata": {},
     "output_type": "execute_result"
    }
   ],
   "source": [
    "accuracy_score(predictions, y_test)"
   ]
  },
  {
   "cell_type": "markdown",
   "id": "1b10a26b-5908-4359-a0ed-10174093cb8f",
   "metadata": {},
   "source": [
    "#### Задание 2."
   ]
  },
  {
   "cell_type": "markdown",
   "id": "0a1649ae-0481-4c2d-adac-581dc19557a9",
   "metadata": {},
   "source": [
    "##### 1) Возьмите данные с листа 1 и выделите валидационную и тестовую выборку."
   ]
  },
  {
   "cell_type": "code",
   "execution_count": 47,
   "id": "871ac9a4-fb1d-47e2-bc68-5bc5fcdb706d",
   "metadata": {},
   "outputs": [
    {
     "data": {
      "text/html": [
       "<div>\n",
       "<style scoped>\n",
       "    .dataframe tbody tr th:only-of-type {\n",
       "        vertical-align: middle;\n",
       "    }\n",
       "\n",
       "    .dataframe tbody tr th {\n",
       "        vertical-align: top;\n",
       "    }\n",
       "\n",
       "    .dataframe thead th {\n",
       "        text-align: right;\n",
       "    }\n",
       "</style>\n",
       "<table border=\"1\" class=\"dataframe\">\n",
       "  <thead>\n",
       "    <tr style=\"text-align: right;\">\n",
       "      <th></th>\n",
       "      <th>AT</th>\n",
       "      <th>V</th>\n",
       "      <th>AP</th>\n",
       "      <th>RH</th>\n",
       "      <th>PE</th>\n",
       "    </tr>\n",
       "  </thead>\n",
       "  <tbody>\n",
       "    <tr>\n",
       "      <th>0</th>\n",
       "      <td>14.96</td>\n",
       "      <td>41.76</td>\n",
       "      <td>1024.07</td>\n",
       "      <td>73.17</td>\n",
       "      <td>463.26</td>\n",
       "    </tr>\n",
       "    <tr>\n",
       "      <th>1</th>\n",
       "      <td>25.18</td>\n",
       "      <td>62.96</td>\n",
       "      <td>1020.04</td>\n",
       "      <td>59.08</td>\n",
       "      <td>444.37</td>\n",
       "    </tr>\n",
       "    <tr>\n",
       "      <th>2</th>\n",
       "      <td>5.11</td>\n",
       "      <td>39.40</td>\n",
       "      <td>1012.16</td>\n",
       "      <td>92.14</td>\n",
       "      <td>488.56</td>\n",
       "    </tr>\n",
       "    <tr>\n",
       "      <th>3</th>\n",
       "      <td>20.86</td>\n",
       "      <td>57.32</td>\n",
       "      <td>1010.24</td>\n",
       "      <td>76.64</td>\n",
       "      <td>446.48</td>\n",
       "    </tr>\n",
       "    <tr>\n",
       "      <th>4</th>\n",
       "      <td>10.82</td>\n",
       "      <td>37.50</td>\n",
       "      <td>1009.23</td>\n",
       "      <td>96.62</td>\n",
       "      <td>473.90</td>\n",
       "    </tr>\n",
       "  </tbody>\n",
       "</table>\n",
       "</div>"
      ],
      "text/plain": [
       "      AT      V       AP     RH      PE\n",
       "0  14.96  41.76  1024.07  73.17  463.26\n",
       "1  25.18  62.96  1020.04  59.08  444.37\n",
       "2   5.11  39.40  1012.16  92.14  488.56\n",
       "3  20.86  57.32  1010.24  76.64  446.48\n",
       "4  10.82  37.50  1009.23  96.62  473.90"
      ]
     },
     "execution_count": 47,
     "metadata": {},
     "output_type": "execute_result"
    }
   ],
   "source": [
    "df = pd.read_excel(\"Folds5x2_pp.xlsx\", sheet_name = \"Sheet1\")\n",
    "\n",
    "df.head()"
   ]
  },
  {
   "cell_type": "code",
   "execution_count": 48,
   "id": "178079ef-1ff2-4cb4-aa3b-fe0c4d87ec77",
   "metadata": {},
   "outputs": [
    {
     "data": {
      "text/plain": [
       "((6123, 5), (1531, 5), (1914, 5))"
      ]
     },
     "execution_count": 48,
     "metadata": {},
     "output_type": "execute_result"
    }
   ],
   "source": [
    "train_validation, test = train_test_split(df, test_size = 0.2)\n",
    "train, validation = train_test_split(train_validation, test_size = 0.2)\n",
    "\n",
    "train.shape, validation.shape, test.shape"
   ]
  },
  {
   "cell_type": "markdown",
   "id": "80f9606e-d69a-47bf-b91d-721a9b5870c4",
   "metadata": {},
   "source": [
    "##### 2) Постройте регрессионную модель.  Замерьте коэффициент R^2 и среднюю ошибку предсказания на валидационной выборке."
   ]
  },
  {
   "cell_type": "code",
   "execution_count": 54,
   "id": "b51b542b-0d7b-474a-97d9-5c2da830e7ea",
   "metadata": {},
   "outputs": [],
   "source": [
    "from sklearn.linear_model import LinearRegression\n",
    "from sklearn.metrics import r2_score, mean_squared_error"
   ]
  },
  {
   "cell_type": "code",
   "execution_count": 53,
   "id": "3d4dd886-8bc0-4063-a66a-77bdb6d5df82",
   "metadata": {},
   "outputs": [],
   "source": [
    "y_train = train[\"PE\"].to_numpy()\n",
    "X_train = train.loc[:, \"AT\":\"RH\"].to_numpy()\n",
    "\n",
    "y_val = validation[\"PE\"].to_numpy()\n",
    "X_val = validation.loc[:, \"AT\":\"RH\"].to_numpy()\n",
    "\n",
    "y_test = test[\"PE\"].to_numpy()\n",
    "X_test = test.loc[:, \"AT\":\"RH\"].to_numpy()"
   ]
  },
  {
   "cell_type": "code",
   "execution_count": 57,
   "id": "ddfcb4ab-966d-4502-a99a-9bd1c0e798be",
   "metadata": {},
   "outputs": [
    {
     "name": "stdout",
     "output_type": "stream",
     "text": [
      "0.9277073144902548\n"
     ]
    },
    {
     "data": {
      "text/plain": [
       "20.286853570623713"
      ]
     },
     "execution_count": 57,
     "metadata": {},
     "output_type": "execute_result"
    }
   ],
   "source": [
    "linear = LinearRegression().fit(X_train, y_train)\n",
    "print(linear.score(X_train, y_train)) # R^2\n",
    "\n",
    "predictions_val = linear.predict(X_val)\n",
    "mean_squared_error(predictions_val, y_val) # MSE"
   ]
  },
  {
   "cell_type": "markdown",
   "id": "8279b147-ae3b-49f5-9562-840012ee34e3",
   "metadata": {},
   "source": [
    "##### 3) Постройте точки из валидационной выборки на плоскости (t=истинное значение, y=предсказание модели). Отобразите вместе с ними прямую y=t. "
   ]
  },
  {
   "cell_type": "code",
   "execution_count": 66,
   "id": "8e95ca67-7039-4fcc-895b-da87de7145ff",
   "metadata": {},
   "outputs": [],
   "source": [
    "k, b = np.polyfit(y_val, predictions_val, 1)"
   ]
  },
  {
   "cell_type": "code",
   "execution_count": 68,
   "id": "c8886675-e3f2-49ae-bb4f-18980d7b4a9d",
   "metadata": {},
   "outputs": [
    {
     "data": {
      "text/plain": [
       "Text(0, 0.5, 'Оценка')"
      ]
     },
     "execution_count": 68,
     "metadata": {},
     "output_type": "execute_result"
    },
    {
     "data": {
      "image/png": "[encoded data removed]",
      "text/plain": [
       "<Figure size 576x396 with 1 Axes>"
      ]
     },
     "metadata": {},
     "output_type": "display_data"
    }
   ],
   "source": [
    "plt.scatter(y_val, predictions_val)\n",
    "plt.plot(y_val, k * y_val + b, color = 'k')\n",
    "plt.xlabel(\"Наблюдение\")\n",
    "plt.ylabel(\"Оценка\")"
   ]
  },
  {
   "cell_type": "code",
   "execution_count": null,
   "id": "2643f019-e677-4cb6-8860-20b937fda42b",
   "metadata": {},
   "outputs": [],
   "source": []
  }
 ],
 "metadata": {
  "kernelspec": {
   "display_name": "Python 3",
   "language": "python",
   "name": "python3"
  },
  "language_info": {
   "codemirror_mode": {
    "name": "ipython",
    "version": 3
   },
   "file_extension": ".py",
   "mimetype": "text/x-python",
   "name": "python",
   "nbconvert_exporter": "python",
   "pygments_lexer": "ipython3",
   "version": "3.8.8"
  }
 },
 "nbformat": 4,
 "nbformat_minor": 5
}
